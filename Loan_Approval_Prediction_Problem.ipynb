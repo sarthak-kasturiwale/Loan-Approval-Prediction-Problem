{
 "cells": [
  {
   "cell_type": "markdown",
   "metadata": {},
   "source": [
    "# Loan Approval Prediction Problem"
   ]
  },
  {
   "cell_type": "markdown",
   "metadata": {},
   "source": [
    "# Introduction"
   ]
  },
  {
   "cell_type": "markdown",
   "metadata": {},
   "source": [
    "- Loans are the core business of banks. The main profit comes directly from the loan’s interest. \n",
    "- The loan companies grant a loan after an intensive process of verification and validation. However, they still don’t have assurance if the applicant is able to repay the loan with no difficulties.\n",
    "- In this project, we’ll build a predictive model to predict if an applicant is able to repay the lending company or not. We will prepare the data and use various models to predict the target variable."
   ]
  },
  {
   "cell_type": "markdown",
   "metadata": {},
   "source": [
    "# Dataset Description"
   ]
  },
  {
   "cell_type": "markdown",
   "metadata": {},
   "source": [
    "- We have downloaded the dataset from https://www.kaggle.com/altruistdelhite04/loan-prediction-problem-dataset/notebooks?sortBy=hotness&group=everyone&pageSize=20&datasetId=137197&outputType=all\n",
    "- For this problem, we have three CSV files: train, test.\n",
    "- Train file will be used for training the model, i.e. our model will learn from this file. It contains all the independent variables and the target variable.\n",
    "- Test file contains all the independent variables, but not the target variable. We will apply the model to predict the target variable for the test data."
   ]
  },
  {
   "cell_type": "markdown",
   "metadata": {},
   "source": [
    "# Import Some Libraries"
   ]
  },
  {
   "cell_type": "code",
   "execution_count": 1,
   "metadata": {},
   "outputs": [],
   "source": [
    "#Basic libraries\n",
    "import pandas as pd \n",
    "import numpy as np\n",
    "from scipy import stats\n",
    "\n",
    "# Import Plotting Libraries\n",
    "import matplotlib.pyplot as plt\n",
    "import seaborn as sns\n",
    "import plotly.express as px\n",
    "import plotly.figure_factory as ff\n",
    "import plotly\n",
    "\n",
    "# Classifiers\n",
    "from sklearn.ensemble import AdaBoostClassifier , GradientBoostingClassifier , VotingClassifier , RandomForestClassifier\n",
    "from sklearn.linear_model import LogisticRegression , RidgeClassifier\n",
    "from sklearn.discriminant_analysis import LinearDiscriminantAnalysis\n",
    "from sklearn.model_selection import RepeatedStratifiedKFold\n",
    "from sklearn.neighbors import KNeighborsClassifier\n",
    "from sklearn.model_selection import GridSearchCV\n",
    "from sklearn.tree import DecisionTreeClassifier \n",
    "from sklearn.naive_bayes import GaussianNB\n",
    "from xgboost import plot_importance\n",
    "from xgboost import XGBClassifier\n",
    "from sklearn.svm import SVC\n",
    "\n",
    "# Model evaluation tools\n",
    "from sklearn.metrics import classification_report , accuracy_score , confusion_matrix\n",
    "from sklearn.metrics import accuracy_score,f1_score\n",
    "from sklearn.model_selection import cross_val_score\n",
    "\n",
    "# Data processing Libraries\n",
    "from sklearn.preprocessing import StandardScaler\n",
    "from sklearn.model_selection import train_test_split\n",
    "from sklearn import model_selection\n",
    "from sklearn.preprocessing import LabelEncoder\n",
    "from sklearn.impute import SimpleImputer\n",
    "\n",
    "\n",
    "# Other Libraries\n",
    "from sklearn.utils import resample\n",
    "from sklearn.preprocessing import StandardScaler , MinMaxScaler\n",
    "from collections import Counter\n",
    "\n",
    "import warnings\n",
    "warnings.filterwarnings(\"ignore\")"
   ]
  },
  {
   "cell_type": "markdown",
   "metadata": {},
   "source": [
    "# About Company"
   ]
  },
  {
   "cell_type": "markdown",
   "metadata": {},
   "source": [
    "- Dream Housing Finance company deals in all home loans. They have presence across all urban, semi urban and rural areas. Customer first apply for home loan after that company validates the customer eligibility for loan."
   ]
  },
  {
   "cell_type": "markdown",
   "metadata": {},
   "source": [
    "# Problem Statement"
   ]
  },
  {
   "cell_type": "markdown",
   "metadata": {},
   "source": [
    "- Company wants to automate the loan eligibility process (real time) based on customer detail provided while filling online application form. \n",
    "- These details are Gender, Marital Status, Education, Number of Dependents, Income, Loan Amount, Credit History and others. \n",
    "- To automate this process, they have given a problem to identify the customers segments, those are eligible for loan amount so that they can specifically target these customers. Here they have provided a partial data set."
   ]
  },
  {
   "cell_type": "markdown",
   "metadata": {},
   "source": [
    "### So we have to predict wheather loan is approved or not using given data"
   ]
  },
  {
   "cell_type": "markdown",
   "metadata": {},
   "source": [
    "# Read Train & Test data"
   ]
  },
  {
   "cell_type": "code",
   "execution_count": 2,
   "metadata": {},
   "outputs": [
    {
     "name": "stdout",
     "output_type": "stream",
     "text": [
      "Shape of train data is : (614, 13)\n"
     ]
    },
    {
     "data": {
      "text/html": [
       "<div>\n",
       "<style scoped>\n",
       "    .dataframe tbody tr th:only-of-type {\n",
       "        vertical-align: middle;\n",
       "    }\n",
       "\n",
       "    .dataframe tbody tr th {\n",
       "        vertical-align: top;\n",
       "    }\n",
       "\n",
       "    .dataframe thead th {\n",
       "        text-align: right;\n",
       "    }\n",
       "</style>\n",
       "<table border=\"1\" class=\"dataframe\">\n",
       "  <thead>\n",
       "    <tr style=\"text-align: right;\">\n",
       "      <th></th>\n",
       "      <th>Loan_ID</th>\n",
       "      <th>Gender</th>\n",
       "      <th>Married</th>\n",
       "      <th>Dependents</th>\n",
       "      <th>Education</th>\n",
       "      <th>Self_Employed</th>\n",
       "      <th>ApplicantIncome</th>\n",
       "      <th>CoapplicantIncome</th>\n",
       "      <th>LoanAmount</th>\n",
       "      <th>Loan_Amount_Term</th>\n",
       "      <th>Credit_History</th>\n",
       "      <th>Property_Area</th>\n",
       "      <th>Loan_Status</th>\n",
       "    </tr>\n",
       "  </thead>\n",
       "  <tbody>\n",
       "    <tr>\n",
       "      <th>0</th>\n",
       "      <td>LP001002</td>\n",
       "      <td>Male</td>\n",
       "      <td>No</td>\n",
       "      <td>0</td>\n",
       "      <td>Graduate</td>\n",
       "      <td>No</td>\n",
       "      <td>5849</td>\n",
       "      <td>0.0</td>\n",
       "      <td>NaN</td>\n",
       "      <td>360.0</td>\n",
       "      <td>1.0</td>\n",
       "      <td>Urban</td>\n",
       "      <td>Y</td>\n",
       "    </tr>\n",
       "    <tr>\n",
       "      <th>1</th>\n",
       "      <td>LP001003</td>\n",
       "      <td>Male</td>\n",
       "      <td>Yes</td>\n",
       "      <td>1</td>\n",
       "      <td>Graduate</td>\n",
       "      <td>No</td>\n",
       "      <td>4583</td>\n",
       "      <td>1508.0</td>\n",
       "      <td>128.0</td>\n",
       "      <td>360.0</td>\n",
       "      <td>1.0</td>\n",
       "      <td>Rural</td>\n",
       "      <td>N</td>\n",
       "    </tr>\n",
       "    <tr>\n",
       "      <th>2</th>\n",
       "      <td>LP001005</td>\n",
       "      <td>Male</td>\n",
       "      <td>Yes</td>\n",
       "      <td>0</td>\n",
       "      <td>Graduate</td>\n",
       "      <td>Yes</td>\n",
       "      <td>3000</td>\n",
       "      <td>0.0</td>\n",
       "      <td>66.0</td>\n",
       "      <td>360.0</td>\n",
       "      <td>1.0</td>\n",
       "      <td>Urban</td>\n",
       "      <td>Y</td>\n",
       "    </tr>\n",
       "    <tr>\n",
       "      <th>3</th>\n",
       "      <td>LP001006</td>\n",
       "      <td>Male</td>\n",
       "      <td>Yes</td>\n",
       "      <td>0</td>\n",
       "      <td>Not Graduate</td>\n",
       "      <td>No</td>\n",
       "      <td>2583</td>\n",
       "      <td>2358.0</td>\n",
       "      <td>120.0</td>\n",
       "      <td>360.0</td>\n",
       "      <td>1.0</td>\n",
       "      <td>Urban</td>\n",
       "      <td>Y</td>\n",
       "    </tr>\n",
       "    <tr>\n",
       "      <th>4</th>\n",
       "      <td>LP001008</td>\n",
       "      <td>Male</td>\n",
       "      <td>No</td>\n",
       "      <td>0</td>\n",
       "      <td>Graduate</td>\n",
       "      <td>No</td>\n",
       "      <td>6000</td>\n",
       "      <td>0.0</td>\n",
       "      <td>141.0</td>\n",
       "      <td>360.0</td>\n",
       "      <td>1.0</td>\n",
       "      <td>Urban</td>\n",
       "      <td>Y</td>\n",
       "    </tr>\n",
       "  </tbody>\n",
       "</table>\n",
       "</div>"
      ],
      "text/plain": [
       "    Loan_ID Gender Married Dependents     Education Self_Employed  \\\n",
       "0  LP001002   Male      No          0      Graduate            No   \n",
       "1  LP001003   Male     Yes          1      Graduate            No   \n",
       "2  LP001005   Male     Yes          0      Graduate           Yes   \n",
       "3  LP001006   Male     Yes          0  Not Graduate            No   \n",
       "4  LP001008   Male      No          0      Graduate            No   \n",
       "\n",
       "   ApplicantIncome  CoapplicantIncome  LoanAmount  Loan_Amount_Term  \\\n",
       "0             5849                0.0         NaN             360.0   \n",
       "1             4583             1508.0       128.0             360.0   \n",
       "2             3000                0.0        66.0             360.0   \n",
       "3             2583             2358.0       120.0             360.0   \n",
       "4             6000                0.0       141.0             360.0   \n",
       "\n",
       "   Credit_History Property_Area Loan_Status  \n",
       "0             1.0         Urban           Y  \n",
       "1             1.0         Rural           N  \n",
       "2             1.0         Urban           Y  \n",
       "3             1.0         Urban           Y  \n",
       "4             1.0         Urban           Y  "
      ]
     },
     "execution_count": 2,
     "metadata": {},
     "output_type": "execute_result"
    }
   ],
   "source": [
    "train_data = pd.read_csv(\"train_data.csv\")\n",
    "print(\"Shape of train data is :\", train_data.shape)\n",
    "train_data.head()"
   ]
  },
  {
   "cell_type": "code",
   "execution_count": 3,
   "metadata": {},
   "outputs": [
    {
     "name": "stdout",
     "output_type": "stream",
     "text": [
      "Shape of test data is : (367, 12)\n"
     ]
    },
    {
     "data": {
      "text/html": [
       "<div>\n",
       "<style scoped>\n",
       "    .dataframe tbody tr th:only-of-type {\n",
       "        vertical-align: middle;\n",
       "    }\n",
       "\n",
       "    .dataframe tbody tr th {\n",
       "        vertical-align: top;\n",
       "    }\n",
       "\n",
       "    .dataframe thead th {\n",
       "        text-align: right;\n",
       "    }\n",
       "</style>\n",
       "<table border=\"1\" class=\"dataframe\">\n",
       "  <thead>\n",
       "    <tr style=\"text-align: right;\">\n",
       "      <th></th>\n",
       "      <th>Loan_ID</th>\n",
       "      <th>Gender</th>\n",
       "      <th>Married</th>\n",
       "      <th>Dependents</th>\n",
       "      <th>Education</th>\n",
       "      <th>Self_Employed</th>\n",
       "      <th>ApplicantIncome</th>\n",
       "      <th>CoapplicantIncome</th>\n",
       "      <th>LoanAmount</th>\n",
       "      <th>Loan_Amount_Term</th>\n",
       "      <th>Credit_History</th>\n",
       "      <th>Property_Area</th>\n",
       "    </tr>\n",
       "  </thead>\n",
       "  <tbody>\n",
       "    <tr>\n",
       "      <th>0</th>\n",
       "      <td>LP001015</td>\n",
       "      <td>Male</td>\n",
       "      <td>Yes</td>\n",
       "      <td>0</td>\n",
       "      <td>Graduate</td>\n",
       "      <td>No</td>\n",
       "      <td>5720</td>\n",
       "      <td>0</td>\n",
       "      <td>110.0</td>\n",
       "      <td>360.0</td>\n",
       "      <td>1.0</td>\n",
       "      <td>Urban</td>\n",
       "    </tr>\n",
       "    <tr>\n",
       "      <th>1</th>\n",
       "      <td>LP001022</td>\n",
       "      <td>Male</td>\n",
       "      <td>Yes</td>\n",
       "      <td>1</td>\n",
       "      <td>Graduate</td>\n",
       "      <td>No</td>\n",
       "      <td>3076</td>\n",
       "      <td>1500</td>\n",
       "      <td>126.0</td>\n",
       "      <td>360.0</td>\n",
       "      <td>1.0</td>\n",
       "      <td>Urban</td>\n",
       "    </tr>\n",
       "    <tr>\n",
       "      <th>2</th>\n",
       "      <td>LP001031</td>\n",
       "      <td>Male</td>\n",
       "      <td>Yes</td>\n",
       "      <td>2</td>\n",
       "      <td>Graduate</td>\n",
       "      <td>No</td>\n",
       "      <td>5000</td>\n",
       "      <td>1800</td>\n",
       "      <td>208.0</td>\n",
       "      <td>360.0</td>\n",
       "      <td>1.0</td>\n",
       "      <td>Urban</td>\n",
       "    </tr>\n",
       "    <tr>\n",
       "      <th>3</th>\n",
       "      <td>LP001035</td>\n",
       "      <td>Male</td>\n",
       "      <td>Yes</td>\n",
       "      <td>2</td>\n",
       "      <td>Graduate</td>\n",
       "      <td>No</td>\n",
       "      <td>2340</td>\n",
       "      <td>2546</td>\n",
       "      <td>100.0</td>\n",
       "      <td>360.0</td>\n",
       "      <td>NaN</td>\n",
       "      <td>Urban</td>\n",
       "    </tr>\n",
       "    <tr>\n",
       "      <th>4</th>\n",
       "      <td>LP001051</td>\n",
       "      <td>Male</td>\n",
       "      <td>No</td>\n",
       "      <td>0</td>\n",
       "      <td>Not Graduate</td>\n",
       "      <td>No</td>\n",
       "      <td>3276</td>\n",
       "      <td>0</td>\n",
       "      <td>78.0</td>\n",
       "      <td>360.0</td>\n",
       "      <td>1.0</td>\n",
       "      <td>Urban</td>\n",
       "    </tr>\n",
       "  </tbody>\n",
       "</table>\n",
       "</div>"
      ],
      "text/plain": [
       "    Loan_ID Gender Married Dependents     Education Self_Employed  \\\n",
       "0  LP001015   Male     Yes          0      Graduate            No   \n",
       "1  LP001022   Male     Yes          1      Graduate            No   \n",
       "2  LP001031   Male     Yes          2      Graduate            No   \n",
       "3  LP001035   Male     Yes          2      Graduate            No   \n",
       "4  LP001051   Male      No          0  Not Graduate            No   \n",
       "\n",
       "   ApplicantIncome  CoapplicantIncome  LoanAmount  Loan_Amount_Term  \\\n",
       "0             5720                  0       110.0             360.0   \n",
       "1             3076               1500       126.0             360.0   \n",
       "2             5000               1800       208.0             360.0   \n",
       "3             2340               2546       100.0             360.0   \n",
       "4             3276                  0        78.0             360.0   \n",
       "\n",
       "   Credit_History Property_Area  \n",
       "0             1.0         Urban  \n",
       "1             1.0         Urban  \n",
       "2             1.0         Urban  \n",
       "3             NaN         Urban  \n",
       "4             1.0         Urban  "
      ]
     },
     "execution_count": 3,
     "metadata": {},
     "output_type": "execute_result"
    }
   ],
   "source": [
    "test_data = pd.read_csv(\"test_data.csv\")\n",
    "print(\"Shape of test data is :\", test_data.shape)\n",
    "test_data.head()"
   ]
  },
  {
   "cell_type": "markdown",
   "metadata": {},
   "source": [
    "**Observations :**\n",
    "- There is total of 614 rows in train data and 367 rows in test data. Train data contain Loan_Status which is our target "
   ]
  },
  {
   "cell_type": "markdown",
   "metadata": {},
   "source": [
    "# Hypothesis Generation"
   ]
  },
  {
   "cell_type": "markdown",
   "metadata": {},
   "source": [
    "#### Let generate some hypothesis by some domain knowlegde and just looking on data\n",
    "\n",
    "1. **Dependents** : If a person is depends on more number of members or their relatives, the chances of loan approval is less. Let's take an example if we take two people who apply for loan, if on one people their is total of 3 dependents( their famil members) and for another if their is no one dependents (means all members earn money) then chances that this member can pay loan is more so cances for loan approval is high.\n",
    "\n",
    "2. **Education :** If a person is educated than he can pay EMI on time or chances of loan to be pay is more ie, chances for loan approval is more.\n",
    "\n",
    "3. **Self_Employed :** If a person is self empployed than their maybe some chances that his/her buisness fails or they were not able to pay their loan as compare to one who is not self employed and work for some other company or organization.\n",
    "\n",
    "4. **ApplicantIncome :** If a person earn more we can conclude that he will able to repay loan so chances of loan approval is more.\n",
    "\n",
    "5. **LoanAmount :** If amount of loan to be payed is less then their is high chances that loan be payed so chances for loan approval is also high.\n",
    "\n",
    "6. **Loan_Amount_Term :** If loan taken for less time and have less amount then chances of loan approval is more.\n",
    "\n",
    "7. **Credit_History :** If people repayed all of their previous debts (loans) then chances that he will get loan is more ie, cahnces that loan is approved is more.\n",
    "\n",
    "8. **EMI :** If a person takes loan and if his monthly EMI to be payed is less then chances for loan to be payed on time is more, so chances for loan approval is high.\n",
    "\n",
    "9. **CoapplicantIncome :** A co-applicant refers to a person who applies along with the borrower for a loan. This is done so that the income of the co-applicant can be used to supplement the borrower’s income and increase his/her eligibility. So if  CoapplicantIncome is more than chances for loan approval is more.\n",
    "\n",
    "### So these are 9 hypothesis that we generates from our domain knowledge now validate our hypothesis to check if they are right or wrong."
   ]
  },
  {
   "cell_type": "markdown",
   "metadata": {},
   "source": [
    "# Look on data"
   ]
  },
  {
   "cell_type": "code",
   "execution_count": 4,
   "metadata": {},
   "outputs": [
    {
     "name": "stdout",
     "output_type": "stream",
     "text": [
      "Train Data-set contain these columns :\n",
      "  Index(['Loan_ID', 'Gender', 'Married', 'Dependents', 'Education',\n",
      "       'Self_Employed', 'ApplicantIncome', 'CoapplicantIncome', 'LoanAmount',\n",
      "       'Loan_Amount_Term', 'Credit_History', 'Property_Area', 'Loan_Status'],\n",
      "      dtype='object')\n"
     ]
    }
   ],
   "source": [
    "print(\"Train Data-set contain these columns :\\n \", train_data.columns)"
   ]
  },
  {
   "cell_type": "code",
   "execution_count": 5,
   "metadata": {},
   "outputs": [
    {
     "name": "stdout",
     "output_type": "stream",
     "text": [
      "Test Data-set contain these columns :\n",
      " Index(['Loan_ID', 'Gender', 'Married', 'Dependents', 'Education',\n",
      "       'Self_Employed', 'ApplicantIncome', 'CoapplicantIncome', 'LoanAmount',\n",
      "       'Loan_Amount_Term', 'Credit_History', 'Property_Area'],\n",
      "      dtype='object')\n"
     ]
    }
   ],
   "source": [
    "print(\"Test Data-set contain these columns :\\n\", test_data.columns)"
   ]
  },
  {
   "cell_type": "markdown",
   "metadata": {},
   "source": [
    "### Check informaion about data like null values and data types of columns"
   ]
  },
  {
   "cell_type": "code",
   "execution_count": 6,
   "metadata": {},
   "outputs": [
    {
     "name": "stdout",
     "output_type": "stream",
     "text": [
      "<class 'pandas.core.frame.DataFrame'>\n",
      "RangeIndex: 614 entries, 0 to 613\n",
      "Data columns (total 13 columns):\n",
      " #   Column             Non-Null Count  Dtype  \n",
      "---  ------             --------------  -----  \n",
      " 0   Loan_ID            614 non-null    object \n",
      " 1   Gender             601 non-null    object \n",
      " 2   Married            611 non-null    object \n",
      " 3   Dependents         599 non-null    object \n",
      " 4   Education          614 non-null    object \n",
      " 5   Self_Employed      582 non-null    object \n",
      " 6   ApplicantIncome    614 non-null    int64  \n",
      " 7   CoapplicantIncome  614 non-null    float64\n",
      " 8   LoanAmount         592 non-null    float64\n",
      " 9   Loan_Amount_Term   600 non-null    float64\n",
      " 10  Credit_History     564 non-null    float64\n",
      " 11  Property_Area      614 non-null    object \n",
      " 12  Loan_Status        614 non-null    object \n",
      "dtypes: float64(4), int64(1), object(8)\n",
      "memory usage: 62.5+ KB\n"
     ]
    }
   ],
   "source": [
    "train_data.info()"
   ]
  },
  {
   "cell_type": "code",
   "execution_count": 7,
   "metadata": {},
   "outputs": [
    {
     "data": {
      "text/plain": [
       "Loan_ID               0\n",
       "Gender               13\n",
       "Married               3\n",
       "Dependents           15\n",
       "Education             0\n",
       "Self_Employed        32\n",
       "ApplicantIncome       0\n",
       "CoapplicantIncome     0\n",
       "LoanAmount           22\n",
       "Loan_Amount_Term     14\n",
       "Credit_History       50\n",
       "Property_Area         0\n",
       "Loan_Status           0\n",
       "dtype: int64"
      ]
     },
     "execution_count": 7,
     "metadata": {},
     "output_type": "execute_result"
    }
   ],
   "source": [
    "train_data.isnull().sum()"
   ]
  },
  {
   "cell_type": "code",
   "execution_count": 8,
   "metadata": {},
   "outputs": [
    {
     "name": "stdout",
     "output_type": "stream",
     "text": [
      "<class 'pandas.core.frame.DataFrame'>\n",
      "RangeIndex: 367 entries, 0 to 366\n",
      "Data columns (total 12 columns):\n",
      " #   Column             Non-Null Count  Dtype  \n",
      "---  ------             --------------  -----  \n",
      " 0   Loan_ID            367 non-null    object \n",
      " 1   Gender             356 non-null    object \n",
      " 2   Married            367 non-null    object \n",
      " 3   Dependents         357 non-null    object \n",
      " 4   Education          367 non-null    object \n",
      " 5   Self_Employed      344 non-null    object \n",
      " 6   ApplicantIncome    367 non-null    int64  \n",
      " 7   CoapplicantIncome  367 non-null    int64  \n",
      " 8   LoanAmount         362 non-null    float64\n",
      " 9   Loan_Amount_Term   361 non-null    float64\n",
      " 10  Credit_History     338 non-null    float64\n",
      " 11  Property_Area      367 non-null    object \n",
      "dtypes: float64(3), int64(2), object(7)\n",
      "memory usage: 34.5+ KB\n"
     ]
    }
   ],
   "source": [
    "test_data.info()"
   ]
  },
  {
   "cell_type": "code",
   "execution_count": 9,
   "metadata": {},
   "outputs": [
    {
     "data": {
      "text/plain": [
       "Loan_ID               0\n",
       "Gender               11\n",
       "Married               0\n",
       "Dependents           10\n",
       "Education             0\n",
       "Self_Employed        23\n",
       "ApplicantIncome       0\n",
       "CoapplicantIncome     0\n",
       "LoanAmount            5\n",
       "Loan_Amount_Term      6\n",
       "Credit_History       29\n",
       "Property_Area         0\n",
       "dtype: int64"
      ]
     },
     "execution_count": 9,
     "metadata": {},
     "output_type": "execute_result"
    }
   ],
   "source": [
    "test_data.isnull().sum()"
   ]
  },
  {
   "cell_type": "markdown",
   "metadata": {},
   "source": [
    "**Observations :**\n",
    "\n",
    "1. There is total of 3 types of data types of columns : Object, int64 and float4 in both train and test data-sets. Out of which ApplicantIncome is int64 and CoapplicantIncome, LoanAmount, Loan_Amount_Term, Credit_History is float64 and rest are object.\n",
    "\n",
    "2. There are some features which contain Null values in both train and test data-sets like : Gender, Married, Dependents, Self_Employed, LoanAmount, Loan_Amount_Term, Credit_History in train data-set & Gender, Dependents, Self_Employed, LoanAmount, Loan_Amount_Term, Credit_History in test data-set                 "
   ]
  },
  {
   "cell_type": "markdown",
   "metadata": {},
   "source": [
    "### Impute missing values using mode (most_frequent) for categorical features and median (because of outliers we choose median as median is robust to outliers) for numerical features."
   ]
  },
  {
   "cell_type": "markdown",
   "metadata": {},
   "source": [
    "- For train : \n",
    "\n",
    "      caegorical : Gender, Married, Dependents, Self_Employed, Credit_History, Loan_Amount_Term.\n",
    "  \n",
    "      numerical : LoanAmount\n",
    "\n",
    "\n",
    "- For test:\n",
    "\n",
    "      categorical : Gender, Dependents, Self_Employed,Loan_Amount_Term, Credit_History.\n",
    "  \n",
    "      numerical : LoanAmount"
   ]
  },
  {
   "cell_type": "code",
   "execution_count": 10,
   "metadata": {},
   "outputs": [],
   "source": [
    "# For Train\n",
    "\n",
    "train_data['Gender'].fillna(train_data['Gender'].mode()[0], inplace=True)\n",
    "train_data['Married'].fillna(train_data['Married'].mode()[0], inplace=True)\n",
    "train_data['Dependents'].fillna(train_data['Dependents'].mode()[0], inplace=True)\n",
    "train_data['Self_Employed'].fillna(train_data['Self_Employed'].mode()[0], inplace=True)\n",
    "train_data['Credit_History'].fillna(train_data['Credit_History'].mode()[0], inplace=True)\n",
    "train_data['Loan_Amount_Term'].fillna(train_data['Loan_Amount_Term'].mode()[0], inplace=True)\n",
    "train_data['LoanAmount'].fillna(train_data['LoanAmount'].median(), inplace=True)\n",
    "\n",
    "# For Test\n",
    "\n",
    "test_data['Gender'].fillna(test_data['Gender'].mode()[0], inplace=True)\n",
    "test_data['Dependents'].fillna(test_data['Dependents'].mode()[0], inplace=True)\n",
    "test_data['Self_Employed'].fillna(test_data['Self_Employed'].mode()[0], inplace=True)\n",
    "test_data['Credit_History'].fillna(test_data['Credit_History'].mode()[0], inplace=True)\n",
    "test_data['Loan_Amount_Term'].fillna(test_data['Loan_Amount_Term'].mode()[0], inplace=True)\n",
    "test_data['LoanAmount'].fillna(test_data['LoanAmount'].median(), inplace=True)"
   ]
  },
  {
   "cell_type": "code",
   "execution_count": 11,
   "metadata": {},
   "outputs": [
    {
     "data": {
      "text/plain": [
       "Loan_ID              0\n",
       "Gender               0\n",
       "Married              0\n",
       "Dependents           0\n",
       "Education            0\n",
       "Self_Employed        0\n",
       "ApplicantIncome      0\n",
       "CoapplicantIncome    0\n",
       "LoanAmount           0\n",
       "Loan_Amount_Term     0\n",
       "Credit_History       0\n",
       "Property_Area        0\n",
       "Loan_Status          0\n",
       "dtype: int64"
      ]
     },
     "execution_count": 11,
     "metadata": {},
     "output_type": "execute_result"
    }
   ],
   "source": [
    "train_data.isnull().sum()"
   ]
  },
  {
   "cell_type": "code",
   "execution_count": 12,
   "metadata": {},
   "outputs": [
    {
     "data": {
      "text/plain": [
       "Loan_ID              0\n",
       "Gender               0\n",
       "Married              0\n",
       "Dependents           0\n",
       "Education            0\n",
       "Self_Employed        0\n",
       "ApplicantIncome      0\n",
       "CoapplicantIncome    0\n",
       "LoanAmount           0\n",
       "Loan_Amount_Term     0\n",
       "Credit_History       0\n",
       "Property_Area        0\n",
       "dtype: int64"
      ]
     },
     "execution_count": 12,
     "metadata": {},
     "output_type": "execute_result"
    }
   ],
   "source": [
    "test_data.isnull().sum()"
   ]
  },
  {
   "cell_type": "markdown",
   "metadata": {},
   "source": [
    "# Univariate Analysis"
   ]
  },
  {
   "cell_type": "code",
   "execution_count": 13,
   "metadata": {},
   "outputs": [
    {
     "data": {
      "text/html": [
       "<div>\n",
       "<style scoped>\n",
       "    .dataframe tbody tr th:only-of-type {\n",
       "        vertical-align: middle;\n",
       "    }\n",
       "\n",
       "    .dataframe tbody tr th {\n",
       "        vertical-align: top;\n",
       "    }\n",
       "\n",
       "    .dataframe thead th {\n",
       "        text-align: right;\n",
       "    }\n",
       "</style>\n",
       "<table border=\"1\" class=\"dataframe\">\n",
       "  <thead>\n",
       "    <tr style=\"text-align: right;\">\n",
       "      <th></th>\n",
       "      <th>Loan_ID</th>\n",
       "      <th>Gender</th>\n",
       "      <th>Married</th>\n",
       "      <th>Dependents</th>\n",
       "      <th>Education</th>\n",
       "      <th>Self_Employed</th>\n",
       "      <th>ApplicantIncome</th>\n",
       "      <th>CoapplicantIncome</th>\n",
       "      <th>LoanAmount</th>\n",
       "      <th>Loan_Amount_Term</th>\n",
       "      <th>Credit_History</th>\n",
       "      <th>Property_Area</th>\n",
       "      <th>Loan_Status</th>\n",
       "    </tr>\n",
       "  </thead>\n",
       "  <tbody>\n",
       "    <tr>\n",
       "      <th>0</th>\n",
       "      <td>LP001002</td>\n",
       "      <td>Male</td>\n",
       "      <td>No</td>\n",
       "      <td>0</td>\n",
       "      <td>Graduate</td>\n",
       "      <td>No</td>\n",
       "      <td>5849</td>\n",
       "      <td>0.0</td>\n",
       "      <td>128.0</td>\n",
       "      <td>360.0</td>\n",
       "      <td>1.0</td>\n",
       "      <td>Urban</td>\n",
       "      <td>Y</td>\n",
       "    </tr>\n",
       "    <tr>\n",
       "      <th>1</th>\n",
       "      <td>LP001003</td>\n",
       "      <td>Male</td>\n",
       "      <td>Yes</td>\n",
       "      <td>1</td>\n",
       "      <td>Graduate</td>\n",
       "      <td>No</td>\n",
       "      <td>4583</td>\n",
       "      <td>1508.0</td>\n",
       "      <td>128.0</td>\n",
       "      <td>360.0</td>\n",
       "      <td>1.0</td>\n",
       "      <td>Rural</td>\n",
       "      <td>N</td>\n",
       "    </tr>\n",
       "    <tr>\n",
       "      <th>2</th>\n",
       "      <td>LP001005</td>\n",
       "      <td>Male</td>\n",
       "      <td>Yes</td>\n",
       "      <td>0</td>\n",
       "      <td>Graduate</td>\n",
       "      <td>Yes</td>\n",
       "      <td>3000</td>\n",
       "      <td>0.0</td>\n",
       "      <td>66.0</td>\n",
       "      <td>360.0</td>\n",
       "      <td>1.0</td>\n",
       "      <td>Urban</td>\n",
       "      <td>Y</td>\n",
       "    </tr>\n",
       "  </tbody>\n",
       "</table>\n",
       "</div>"
      ],
      "text/plain": [
       "    Loan_ID Gender Married Dependents Education Self_Employed  \\\n",
       "0  LP001002   Male      No          0  Graduate            No   \n",
       "1  LP001003   Male     Yes          1  Graduate            No   \n",
       "2  LP001005   Male     Yes          0  Graduate           Yes   \n",
       "\n",
       "   ApplicantIncome  CoapplicantIncome  LoanAmount  Loan_Amount_Term  \\\n",
       "0             5849                0.0       128.0             360.0   \n",
       "1             4583             1508.0       128.0             360.0   \n",
       "2             3000                0.0        66.0             360.0   \n",
       "\n",
       "   Credit_History Property_Area Loan_Status  \n",
       "0             1.0         Urban           Y  \n",
       "1             1.0         Rural           N  \n",
       "2             1.0         Urban           Y  "
      ]
     },
     "execution_count": 13,
     "metadata": {},
     "output_type": "execute_result"
    }
   ],
   "source": [
    "train_data.head(3)"
   ]
  },
  {
   "cell_type": "markdown",
   "metadata": {},
   "source": [
    "### Univariate Analysis on Loan_Status"
   ]
  },
  {
   "cell_type": "code",
   "execution_count": 14,
   "metadata": {},
   "outputs": [
    {
     "name": "stdout",
     "output_type": "stream",
     "text": [
      "Percentage of Yes is 68.72964169381108 and No is 31.27035830618892 for target\n"
     ]
    }
   ],
   "source": [
    "# Look on target variable\n",
    "\n",
    "print(\"Percentage of Yes is {0} and No is {1} for target\".format(train_data.Loan_Status.value_counts(normalize = True)[0]*100,train_data.Loan_Status.value_counts(normalize = True)[1]*100))"
   ]
  },
  {
   "cell_type": "code",
   "execution_count": 15,
   "metadata": {},
   "outputs": [
    {
     "data": {
      "text/plain": [
       "<AxesSubplot:xlabel='Loan_Status', ylabel='count'>"
      ]
     },
     "execution_count": 15,
     "metadata": {},
     "output_type": "execute_result"
    },
    {
     "data": {
      "image/png": "[encoded data removed]",
      "text/plain": [
       "<Figure size 432x288 with 1 Axes>"
      ]
     },
     "metadata": {
      "needs_background": "light"
     },
     "output_type": "display_data"
    }
   ],
   "source": [
    "sns.countplot(x = 'Loan_Status', data = train_data)"
   ]
  },
  {
   "cell_type": "markdown",
   "metadata": {},
   "source": [
    "* There are total of 68.72 % of target is Yes while 31.2 % are No"
   ]
  },
  {
   "cell_type": "markdown",
   "metadata": {},
   "source": [
    "### Univariate Analysis on Numerical Feaures : ApplicantIncome, CoapplicantIncome, LoanAmount "
   ]
  },
  {
   "cell_type": "code",
   "execution_count": 16,
   "metadata": {},
   "outputs": [
    {
     "data": {
      "image/png": "[encoded data removed]",
      "text/plain": [
       "<Figure size 1800x1080 with 2 Axes>"
      ]
     },
     "metadata": {
      "needs_background": "light"
     },
     "output_type": "display_data"
    },
    {
     "data": {
      "image/png": "[encoded data removed]",
      "text/plain": [
       "<Figure size 1800x1080 with 2 Axes>"
      ]
     },
     "metadata": {
      "needs_background": "light"
     },
     "output_type": "display_data"
    },
    {
     "data": {
      "image/png": "[encoded data removed]",
      "text/plain": [
       "<Figure size 1800x1080 with 2 Axes>"
      ]
     },
     "metadata": {
      "needs_background": "light"
     },
     "output_type": "display_data"
    }
   ],
   "source": [
    "numeric_columns = [\"ApplicantIncome\", \"CoapplicantIncome\", \"LoanAmount\"]\n",
    "\n",
    "for x in numeric_columns:\n",
    "    fig = plt.figure()\n",
    "    fig.set_size_inches(25,15)\n",
    "    \n",
    "    plt.subplot(2,2,1)\n",
    "    sns.distplot(train_data[x])\n",
    "    \n",
    "    plt.subplot(2,2,2)\n",
    "    train_data[x].plot.box()\n",
    "    \n",
    "    plt.show()"
   ]
  },
  {
   "cell_type": "markdown",
   "metadata": {},
   "source": [
    "**Observations :**\n",
    "\n",
    "##### Distribution :\n",
    "\n",
    "* ApplicantIncome, CoapplicantIncome are not normally distributed in them there are small number of people which have large income and large number of people have lower income which is like in log distributions.\n",
    "\n",
    "* CoapplicantIncome is fairly normal\n",
    "\n",
    "##### Outliers : \n",
    "\n",
    "* From above box plots we can see all ApplicantIncome, CoapplicantIncome, LoanAmount contains outliers so we have to remove them."
   ]
  },
  {
   "cell_type": "markdown",
   "metadata": {},
   "source": [
    "### Univariate Analysis on Categorical Feaures : Gender, Self_Employed, Married, Credit_History, Education"
   ]
  },
  {
   "cell_type": "code",
   "execution_count": 17,
   "metadata": {},
   "outputs": [
    {
     "data": {
      "image/png": "[encoded data removed]",
      "text/plain": [
       "<Figure size 1800x1080 with 5 Axes>"
      ]
     },
     "metadata": {
      "needs_background": "light"
     },
     "output_type": "display_data"
    }
   ],
   "source": [
    "fig = plt.figure()\n",
    "fig.set_size_inches(25,15)\n",
    "\n",
    "plt.subplot(3,2,1)\n",
    "ax = sns.countplot(x = 'Gender', data = train_data)\n",
    "plt.title('count of data points given in respective Gender')\n",
    "plt.xlabel('Gender')\n",
    "plt.ylabel('Frequencies')\n",
    "for p in ax.patches:\n",
    "        ax.annotate('{:.1f}%'.format(p.get_height()/train_data.shape[0]*100), (p.get_x() + 0.35, p.get_height()))\n",
    "\n",
    "plt.subplot(3,2,2)\n",
    "ax = sns.countplot(x = 'Self_Employed', data = train_data)\n",
    "plt.title('count of data points given in respective Self_Employed')\n",
    "plt.xlabel('Self_Employed')\n",
    "plt.ylabel('frequence')\n",
    "for p in ax.patches:\n",
    "        ax.annotate('{:.1f}%'.format(p.get_height()/train_data.shape[0]*100), (p.get_x() + 0.35, p.get_height()))\n",
    "\n",
    "plt.subplot(3,2,3)\n",
    "ax = sns.countplot(x = 'Married', data = train_data)\n",
    "plt.title('count of data points given in respective Married')\n",
    "plt.xlabel('Married')\n",
    "plt.ylabel('frequencies')\n",
    "for p in ax.patches:\n",
    "        ax.annotate('{:.1f}%'.format(p.get_height()/train_data.shape[0]*100), (p.get_x() + 0.35, p.get_height()))\n",
    "\n",
    "plt.subplot(3,2,4)\n",
    "ax = sns.countplot(x = 'Credit_History', data = train_data)\n",
    "plt.title('count of data points given in respective Credit_History')\n",
    "plt.xlabel('Credit_History')\n",
    "plt.ylabel('frequencies')\n",
    "for p in ax.patches:\n",
    "        ax.annotate('{:.1f}%'.format(p.get_height()/train_data.shape[0]*100), (p.get_x() + 0.35, p.get_height()))\n",
    "        \n",
    "plt.subplot(3,2,5)\n",
    "ax = sns.countplot(x = 'Education', data = train_data)\n",
    "plt.title('count of data points given in respective Education')\n",
    "plt.xlabel('Education')\n",
    "plt.ylabel('frequencies')\n",
    "for p in ax.patches:\n",
    "        ax.annotate('{:.1f}%'.format(p.get_height()/train_data.shape[0]*100), (p.get_x() + 0.35, p.get_height()))"
   ]
  },
  {
   "cell_type": "markdown",
   "metadata": {},
   "source": [
    "* 82 % of applicants are male\n",
    "\n",
    "* Around 13 % applicants are self_employed\n",
    "\n",
    "* Around 65 % applicants are married\n",
    "\n",
    "* Arond 85 % applicants repay their loans sucessfully\n",
    "\n",
    "* Arond 78 % applicants are graduated\n"
   ]
  },
  {
   "cell_type": "markdown",
   "metadata": {},
   "source": [
    "### Univariate analysis on Ordinal feaures : Dependents, Property_Area"
   ]
  },
  {
   "cell_type": "code",
   "execution_count": 18,
   "metadata": {},
   "outputs": [
    {
     "data": {
      "image/png": "[encoded data removed]",
      "text/plain": [
       "<Figure size 1800x1080 with 2 Axes>"
      ]
     },
     "metadata": {
      "needs_background": "light"
     },
     "output_type": "display_data"
    }
   ],
   "source": [
    "fig = plt.figure()\n",
    "fig.set_size_inches(25,15)\n",
    "\n",
    "plt.subplot(2,2,1)\n",
    "ax = sns.countplot(x = 'Dependents', data = train_data)\n",
    "plt.title('count of data points given in respective Dependents')\n",
    "plt.xlabel('Dependents')\n",
    "plt.ylabel('frequence')\n",
    "for p in ax.patches:\n",
    "        ax.annotate('%{:.1f}'.format(p.get_height()/train_data.shape[0]*100), (p.get_x() + 0.35, p.get_height()))\n",
    "\n",
    "plt.subplot(2,2,2)\n",
    "ax = sns.countplot(x = 'Property_Area', data = train_data)\n",
    "plt.title('count of data points given in respective Property_Area')\n",
    "plt.xlabel('Property_Area')\n",
    "plt.ylabel('frequence')\n",
    "for p in ax.patches:\n",
    "        ax.annotate('%{:.1f}'.format(p.get_height()/train_data.shape[0]*100), (p.get_x() + 0.35, p.get_height()))"
   ]
  },
  {
   "cell_type": "markdown",
   "metadata": {},
   "source": [
    "* Most of the applicants don’t have any dependents (58 %)\n",
    "\n",
    "* Most of the applicants are from Semiurban area (40)"
   ]
  },
  {
   "cell_type": "markdown",
   "metadata": {},
   "source": [
    "# Bivariate Analysis\n",
    "\n",
    "#### Now look on bivariate analysis and try to validate our hypothesis\n",
    "\n",
    "\n",
    "1. **Dependents :** If a person is depends on more number of members or their relatives, the chances of loan approval is less. Let's take an example if we take two people who apply for loan, if on one people their is total of 3 dependents( their famil members) and for another if their is no one dependents (means all members earn money) then chances that this member can pay loan is more so cances for loan approval is high.\n",
    "\n",
    "2. **Education :** If a person is educated than he can pay EMI on time or chances of loan to be pay is more ie, chances for loan approval is more.\n",
    "\n",
    "3. **Self_Employed :** If a person is self empployed than their maybe some chances that his/her buisness fails or they were not able to pay their loan as compare to one who is not self employed and work for some other company or organization.\n",
    "\n",
    "4. **ApplicantIncome :** If a person earn more we can conclude that he will able to repay loan so chances of loan approval is more.\n",
    "\n",
    "5. **LoanAmount :** If amount of loan to be payed is less then their is high chances that loan be payed so chances for loan approval is also high.\n",
    "\n",
    "6. **Loan_Amount_Term :** If loan taken for less time and have less amount then chances of loan approval is more.\n",
    "\n",
    "7. **Credit_History :** If people repayed all of their previous debts (loans) then chances that he will get loan is more ie, cahnces that loan is approved is more.\n",
    "\n",
    "8. **EMI :** If a person takes loan and if his monthly EMI to be payed is less then chances for loan to be payed on time is more, so chances for loan approval is high.\n",
    "\n",
    "9. **CoapplicantIncome :** A co-applicant refers to a person who applies along with the borrower for a loan. This is done so that the income of the co-applicant can be used to supplement the borrower’s income and increase his/her eligibility. So if  CoapplicantIncome is more than chances for loan approval is more."
   ]
  },
  {
   "cell_type": "markdown",
   "metadata": {},
   "source": [
    "### Bivariate analysis on Categorical Feaures : Gender, Self_Employed, Married, Credit_History, Education"
   ]
  },
  {
   "cell_type": "code",
   "execution_count": 19,
   "metadata": {},
   "outputs": [
    {
     "data": {
      "text/html": [
       "<div>\n",
       "<style scoped>\n",
       "    .dataframe tbody tr th:only-of-type {\n",
       "        vertical-align: middle;\n",
       "    }\n",
       "\n",
       "    .dataframe tbody tr th {\n",
       "        vertical-align: top;\n",
       "    }\n",
       "\n",
       "    .dataframe thead th {\n",
       "        text-align: right;\n",
       "    }\n",
       "</style>\n",
       "<table border=\"1\" class=\"dataframe\">\n",
       "  <thead>\n",
       "    <tr style=\"text-align: right;\">\n",
       "      <th></th>\n",
       "      <th>Loan_ID</th>\n",
       "      <th>Gender</th>\n",
       "      <th>Married</th>\n",
       "      <th>Dependents</th>\n",
       "      <th>Education</th>\n",
       "      <th>Self_Employed</th>\n",
       "      <th>ApplicantIncome</th>\n",
       "      <th>CoapplicantIncome</th>\n",
       "      <th>LoanAmount</th>\n",
       "      <th>Loan_Amount_Term</th>\n",
       "      <th>Credit_History</th>\n",
       "      <th>Property_Area</th>\n",
       "      <th>Loan_Status</th>\n",
       "    </tr>\n",
       "  </thead>\n",
       "  <tbody>\n",
       "    <tr>\n",
       "      <th>0</th>\n",
       "      <td>LP001002</td>\n",
       "      <td>Male</td>\n",
       "      <td>No</td>\n",
       "      <td>0</td>\n",
       "      <td>Graduate</td>\n",
       "      <td>No</td>\n",
       "      <td>5849</td>\n",
       "      <td>0.0</td>\n",
       "      <td>128.0</td>\n",
       "      <td>360.0</td>\n",
       "      <td>1.0</td>\n",
       "      <td>Urban</td>\n",
       "      <td>Y</td>\n",
       "    </tr>\n",
       "    <tr>\n",
       "      <th>1</th>\n",
       "      <td>LP001003</td>\n",
       "      <td>Male</td>\n",
       "      <td>Yes</td>\n",
       "      <td>1</td>\n",
       "      <td>Graduate</td>\n",
       "      <td>No</td>\n",
       "      <td>4583</td>\n",
       "      <td>1508.0</td>\n",
       "      <td>128.0</td>\n",
       "      <td>360.0</td>\n",
       "      <td>1.0</td>\n",
       "      <td>Rural</td>\n",
       "      <td>N</td>\n",
       "    </tr>\n",
       "    <tr>\n",
       "      <th>2</th>\n",
       "      <td>LP001005</td>\n",
       "      <td>Male</td>\n",
       "      <td>Yes</td>\n",
       "      <td>0</td>\n",
       "      <td>Graduate</td>\n",
       "      <td>Yes</td>\n",
       "      <td>3000</td>\n",
       "      <td>0.0</td>\n",
       "      <td>66.0</td>\n",
       "      <td>360.0</td>\n",
       "      <td>1.0</td>\n",
       "      <td>Urban</td>\n",
       "      <td>Y</td>\n",
       "    </tr>\n",
       "  </tbody>\n",
       "</table>\n",
       "</div>"
      ],
      "text/plain": [
       "    Loan_ID Gender Married Dependents Education Self_Employed  \\\n",
       "0  LP001002   Male      No          0  Graduate            No   \n",
       "1  LP001003   Male     Yes          1  Graduate            No   \n",
       "2  LP001005   Male     Yes          0  Graduate           Yes   \n",
       "\n",
       "   ApplicantIncome  CoapplicantIncome  LoanAmount  Loan_Amount_Term  \\\n",
       "0             5849                0.0       128.0             360.0   \n",
       "1             4583             1508.0       128.0             360.0   \n",
       "2             3000                0.0        66.0             360.0   \n",
       "\n",
       "   Credit_History Property_Area Loan_Status  \n",
       "0             1.0         Urban           Y  \n",
       "1             1.0         Rural           N  \n",
       "2             1.0         Urban           Y  "
      ]
     },
     "execution_count": 19,
     "metadata": {},
     "output_type": "execute_result"
    }
   ],
   "source": [
    "train_data.head(3)"
   ]
  },
  {
   "cell_type": "code",
   "execution_count": 20,
   "metadata": {
    "scrolled": false
   },
   "outputs": [
    {
     "name": "stdout",
     "output_type": "stream",
     "text": [
      "FOR  Gender\n"
     ]
    },
    {
     "data": {
      "image/png": "[encoded data removed]",
      "text/plain": [
       "<Figure size 576x360 with 1 Axes>"
      ]
     },
     "metadata": {
      "needs_background": "light"
     },
     "output_type": "display_data"
    },
    {
     "name": "stdout",
     "output_type": "stream",
     "text": [
      "FOR  Self_Employed\n"
     ]
    },
    {
     "data": {
      "image/png": "[encoded data removed]",
      "text/plain": [
       "<Figure size 576x360 with 1 Axes>"
      ]
     },
     "metadata": {
      "needs_background": "light"
     },
     "output_type": "display_data"
    },
    {
     "name": "stdout",
     "output_type": "stream",
     "text": [
      "FOR  Married\n"
     ]
    },
    {
     "data": {
      "image/png": "[encoded data removed]",
      "text/plain": [
       "<Figure size 576x360 with 1 Axes>"
      ]
     },
     "metadata": {
      "needs_background": "light"
     },
     "output_type": "display_data"
    },
    {
     "name": "stdout",
     "output_type": "stream",
     "text": [
      "FOR  Credit_History\n"
     ]
    },
    {
     "data": {
      "image/png": "[encoded data removed]",
      "text/plain": [
       "<Figure size 576x360 with 1 Axes>"
      ]
     },
     "metadata": {
      "needs_background": "light"
     },
     "output_type": "display_data"
    },
    {
     "name": "stdout",
     "output_type": "stream",
     "text": [
      "FOR  Education\n"
     ]
    },
    {
     "data": {
      "image/png": "[encoded data removed]",
      "text/plain": [
       "<Figure size 576x360 with 1 Axes>"
      ]
     },
     "metadata": {
      "needs_background": "light"
     },
     "output_type": "display_data"
    }
   ],
   "source": [
    "cat_columns = [\"Gender\", \"Self_Employed\", \"Married\", \"Credit_History\", \"Education\"]\n",
    "\n",
    "for x in cat_columns:\n",
    "    print(\"FOR \", x)\n",
    "       \n",
    "    plot = pd.crosstab(train_data[x], train_data['Loan_Status'])\n",
    "    plot.div(plot.sum(1).astype(float), axis = 0).plot(kind = \"bar\", stacked = True, figsize = (8,5))\n",
    "    plt.show()"
   ]
  },
  {
   "cell_type": "markdown",
   "metadata": {},
   "source": [
    "1. **For Gender :** Loan approved or not for both males and females are approximately same.\n",
    "\n",
    "\n",
    "2. **For Self_Employed :** From above plot we can see for Self_Employed proportion of loan approved or not is same for both Self_Employed or not. So our hypothesis that if person is self eployed then their maybe chances that his business fails so loan approval maybe less is wrong.\n",
    "\n",
    "\n",
    "3. **For Married :** Proportion of married applicants is higher for the approved loans.\n",
    "\n",
    "\n",
    "4. **For Credit_History :** Our hypthesis that if person have repay all oh their debts than chances for loan approval is high is true as we can see from above plots person with Credit_History = 1 have more loan approvals.\n",
    "\n",
    "\n",
    "5. **For Education :** Our hypothesis that loan approval for educated peoples are more as compare to not educated is true, from above lot we can see loan approvals for educated is high as compare to not educated"
   ]
  },
  {
   "cell_type": "markdown",
   "metadata": {},
   "source": [
    "### Bivariate Analysis on Ordinal Feaures : Dependents, Property_Area"
   ]
  },
  {
   "cell_type": "code",
   "execution_count": 21,
   "metadata": {
    "scrolled": false
   },
   "outputs": [
    {
     "name": "stdout",
     "output_type": "stream",
     "text": [
      "FOR  Dependents\n"
     ]
    },
    {
     "data": {
      "image/png": "[encoded data removed]",
      "text/plain": [
       "<Figure size 864x360 with 1 Axes>"
      ]
     },
     "metadata": {
      "needs_background": "light"
     },
     "output_type": "display_data"
    },
    {
     "name": "stdout",
     "output_type": "stream",
     "text": [
      "FOR  Property_Area\n"
     ]
    },
    {
     "data": {
      "image/png": "[encoded data removed]",
      "text/plain": [
       "<Figure size 864x360 with 1 Axes>"
      ]
     },
     "metadata": {
      "needs_background": "light"
     },
     "output_type": "display_data"
    }
   ],
   "source": [
    "ord_columns = [\"Dependents\", \"Property_Area\"]\n",
    "\n",
    "for x in ord_columns:\n",
    "    print(\"FOR \", x)\n",
    "    \n",
    "    plot = pd.crosstab(train_data[x],train_data['Loan_Status'])\n",
    "    plot.div(plot.sum(1).astype(float), axis=0).plot(kind = \"bar\", stacked = True, figsize = (12,5))\n",
    "    plt.show()"
   ]
  },
  {
   "cell_type": "markdown",
   "metadata": {},
   "source": [
    "1. **For Dependents :** We can conclde from above plot that for dependents 1 and 3+ have same for both type of tagets and for 2 dependents chances for loan approval is high among all other dependents. Order of loan approval for dependents be like this : 2 > 0 > 1 = 3+. So our hypithesis that if person have less number of dependents is wrong. \n",
    "\n",
    "2. **For Property_Area :** Proportion of loans getting approved in semiurban area is higher as compared to that in rural or urban areas."
   ]
  },
  {
   "cell_type": "markdown",
   "metadata": {},
   "source": [
    "### Bivariate Analysis on Numerical Feaures : ApplicantIncome, CoapplicantIncome, LoanAmount  "
   ]
  },
  {
   "cell_type": "markdown",
   "metadata": {},
   "source": [
    "### Correlation matrix"
   ]
  },
  {
   "cell_type": "code",
   "execution_count": 22,
   "metadata": {},
   "outputs": [
    {
     "data": {
      "image/png": "[encoded data removed]",
      "text/plain": [
       "<Figure size 432x288 with 2 Axes>"
      ]
     },
     "metadata": {
      "needs_background": "light"
     },
     "output_type": "display_data"
    }
   ],
   "source": [
    "train_data['Loan_Status'].replace('N', 0,inplace = True)\n",
    "train_data['Loan_Status'].replace('Y', 1,inplace = True)\n",
    "\n",
    "corr = train_data.corr()\n",
    "sns.heatmap(corr, vmax =.8, square = True, cmap = \"coolwarm\");\n",
    "# 'RdBu_r' & 'BrBG' are other good diverging colormaps"
   ]
  },
  {
   "cell_type": "markdown",
   "metadata": {},
   "source": [
    "- We can observe that (LoanAmount and AplicantIncome), (LoanAmount and CoAplicantIncome) and (Loan_Status and Credit_History) is correlated."
   ]
  },
  {
   "cell_type": "code",
   "execution_count": 23,
   "metadata": {
    "scrolled": false
   },
   "outputs": [
    {
     "name": "stdout",
     "output_type": "stream",
     "text": [
      "For :  ApplicantIncome\n"
     ]
    },
    {
     "data": {
      "text/plain": [
       "<Figure size 1800x1080 with 0 Axes>"
      ]
     },
     "metadata": {},
     "output_type": "display_data"
    },
    {
     "data": {
      "image/png": "[encoded data removed]",
      "text/plain": [
       "<Figure size 428.625x360 with 1 Axes>"
      ]
     },
     "metadata": {
      "needs_background": "light"
     },
     "output_type": "display_data"
    },
    {
     "data": {
      "image/png": "[encoded data removed]",
      "text/plain": [
       "<Figure size 432x288 with 1 Axes>"
      ]
     },
     "metadata": {
      "needs_background": "light"
     },
     "output_type": "display_data"
    },
    {
     "name": "stdout",
     "output_type": "stream",
     "text": [
      "For :  CoapplicantIncome\n"
     ]
    },
    {
     "data": {
      "text/plain": [
       "<Figure size 1800x1080 with 0 Axes>"
      ]
     },
     "metadata": {},
     "output_type": "display_data"
    },
    {
     "data": {
      "image/png": "[encoded data removed]",
      "text/plain": [
       "<Figure size 428.625x360 with 1 Axes>"
      ]
     },
     "metadata": {
      "needs_background": "light"
     },
     "output_type": "display_data"
    },
    {
     "data": {
      "image/png": "[encoded data removed]",
      "text/plain": [
       "<Figure size 432x288 with 1 Axes>"
      ]
     },
     "metadata": {
      "needs_background": "light"
     },
     "output_type": "display_data"
    },
    {
     "name": "stdout",
     "output_type": "stream",
     "text": [
      "For :  LoanAmount\n"
     ]
    },
    {
     "data": {
      "text/plain": [
       "<Figure size 1800x1080 with 0 Axes>"
      ]
     },
     "metadata": {},
     "output_type": "display_data"
    },
    {
     "data": {
      "image/png": "[encoded data removed]",
      "text/plain": [
       "<Figure size 428.625x360 with 1 Axes>"
      ]
     },
     "metadata": {
      "needs_background": "light"
     },
     "output_type": "display_data"
    },
    {
     "data": {
      "image/png": "[encoded data removed]",
      "text/plain": [
       "<Figure size 432x288 with 1 Axes>"
      ]
     },
     "metadata": {
      "needs_background": "light"
     },
     "output_type": "display_data"
    }
   ],
   "source": [
    "for x in numeric_columns:\n",
    "    fig = plt.figure()\n",
    "    fig.set_size_inches(25,15)\n",
    "    \n",
    "    print(\"For : \",x)\n",
    "    sns.FacetGrid(train_data, hue = \"Loan_Status\", size = 5) \\\n",
    "       .map(sns.distplot, x) \\\n",
    "       .add_legend();\n",
    "    plt.show(); \n",
    "   \n",
    "    sns.boxplot(x = 'Loan_Status', y = x, data = train_data)\n",
    "    plt.show()"
   ]
  },
  {
   "cell_type": "markdown",
   "metadata": {},
   "source": [
    "## Above box plot cannot help much so we divide our numerical variables in chunks. "
   ]
  },
  {
   "cell_type": "markdown",
   "metadata": {},
   "source": [
    "### For ApplicantIncome"
   ]
  },
  {
   "cell_type": "code",
   "execution_count": 24,
   "metadata": {},
   "outputs": [
    {
     "data": {
      "text/plain": [
       "(150, 81000)"
      ]
     },
     "execution_count": 24,
     "metadata": {},
     "output_type": "execute_result"
    }
   ],
   "source": [
    "min(train_data.ApplicantIncome),max(train_data.ApplicantIncome)"
   ]
  },
  {
   "cell_type": "code",
   "execution_count": 25,
   "metadata": {},
   "outputs": [
    {
     "data": {
      "text/plain": [
       "Text(0, 0.5, 'Percentage')"
      ]
     },
     "execution_count": 25,
     "metadata": {},
     "output_type": "execute_result"
    },
    {
     "data": {
      "image/png": "[encoded data removed]",
      "text/plain": [
       "<Figure size 864x360 with 1 Axes>"
      ]
     },
     "metadata": {
      "needs_background": "light"
     },
     "output_type": "display_data"
    }
   ],
   "source": [
    "bins = [0,5000,15000,20000,81000]\n",
    "group = ['Low','Average','High', 'Very high']\n",
    "train_data['Income_bin'] = pd.cut(train_data['ApplicantIncome'], bins, labels = group)\n",
    "Income_bin = pd.crosstab(train_data['Income_bin'], train_data['Loan_Status'])\n",
    "Income_bin.div(Income_bin.sum(1).astype(float), axis = 0).plot(kind = \"bar\", stacked = True, figsize = (12,5))\n",
    "plt.xlabel('ApplicantIncome') \n",
    "plt.ylabel('Percentage')"
   ]
  },
  {
   "cell_type": "markdown",
   "metadata": {},
   "source": [
    "**Observations:**\n",
    "1. From above plot we can conclude our hypothesis for ApplicantIncome is not true. As we can see there are more number of peoples wih income in range of 20000 whose loans approved is more as compare to higher income."
   ]
  },
  {
   "cell_type": "markdown",
   "metadata": {},
   "source": [
    "### For CoApplicantIncome"
   ]
  },
  {
   "cell_type": "markdown",
   "metadata": {},
   "source": [
    "* Many CoapplicantIncome is given to be zero so we cannot conclude from only CoapplicantIncome therefore we make a new feature called total income = CoapplicantIncome + ApplicantIncome"
   ]
  },
  {
   "cell_type": "code",
   "execution_count": 26,
   "metadata": {},
   "outputs": [
    {
     "data": {
      "text/plain": [
       "(0.0, 41667.0)"
      ]
     },
     "execution_count": 26,
     "metadata": {},
     "output_type": "execute_result"
    }
   ],
   "source": [
    "min(train_data.CoapplicantIncome),max(train_data.CoapplicantIncome)"
   ]
  },
  {
   "cell_type": "code",
   "execution_count": 27,
   "metadata": {},
   "outputs": [
    {
     "data": {
      "text/plain": [
       "Text(0, 0.5, 'Percentage')"
      ]
     },
     "execution_count": 27,
     "metadata": {},
     "output_type": "execute_result"
    },
    {
     "data": {
      "image/png": "[encoded data removed]",
      "text/plain": [
       "<Figure size 864x360 with 1 Axes>"
      ]
     },
     "metadata": {
      "needs_background": "light"
     },
     "output_type": "display_data"
    }
   ],
   "source": [
    "bins = [0,1000,5000,41667]\n",
    "group = ['Low','Average','High']\n",
    "train_data['Coapplicant_Income_bin'] = pd.cut(train_data['CoapplicantIncome'], bins, labels = group)\n",
    "Coapplicant_Income_bin = pd.crosstab(train_data['Coapplicant_Income_bin'],train_data['Loan_Status'])\n",
    "Coapplicant_Income_bin.div(Coapplicant_Income_bin.sum(1).astype(float), axis = 0).plot(kind = \"bar\", stacked = True, figsize = (12,5))\n",
    "plt.xlabel('CoapplicantIncome')\n",
    "plt.ylabel('Percentage')"
   ]
  },
  {
   "cell_type": "markdown",
   "metadata": {},
   "source": [
    "**Observations:**\n",
    "* Because many coapplicants have zero value so above plot showing chances for loan approval is high for 0 coapplicant income."
   ]
  },
  {
   "cell_type": "markdown",
   "metadata": {},
   "source": [
    "### Adding New Feature (Total_Income) So For Total_Income"
   ]
  },
  {
   "cell_type": "code",
   "execution_count": 28,
   "metadata": {},
   "outputs": [
    {
     "data": {
      "text/plain": [
       "Text(0, 0.5, 'Percentage')"
      ]
     },
     "execution_count": 28,
     "metadata": {},
     "output_type": "execute_result"
    },
    {
     "data": {
      "image/png": "[encoded data removed]",
      "text/plain": [
       "<Figure size 864x360 with 1 Axes>"
      ]
     },
     "metadata": {
      "needs_background": "light"
     },
     "output_type": "display_data"
    }
   ],
   "source": [
    "train_data['Total_Income'] = train_data['ApplicantIncome'] + train_data['CoapplicantIncome']\n",
    "bins = [0,2500,4000,6000,81000]\n",
    "group = ['Low','Average','High', 'Very high']\n",
    "train_data['Total_Income_bin'] = pd.cut(train_data['Total_Income'],bins,labels=group)\n",
    "Total_Income_bin = pd.crosstab(train_data['Total_Income_bin'], train_data['Loan_Status'])\n",
    "Total_Income_bin.div(Total_Income_bin.sum(1).astype(float), axis = 0).plot(kind = \"bar\", stacked = True, figsize = (12,5))\n",
    "plt.xlabel('Total_Income')\n",
    "plt.ylabel('Percentage')"
   ]
  },
  {
   "cell_type": "markdown",
   "metadata": {},
   "source": [
    "**Observations:**\n",
    "* Now we can conclude that people who have less income have low chances of loan approval as compare of higher income people"
   ]
  },
  {
   "cell_type": "markdown",
   "metadata": {},
   "source": [
    "### For Loan_Amount"
   ]
  },
  {
   "cell_type": "code",
   "execution_count": 29,
   "metadata": {},
   "outputs": [
    {
     "data": {
      "text/plain": [
       "(9.0, 700.0)"
      ]
     },
     "execution_count": 29,
     "metadata": {},
     "output_type": "execute_result"
    }
   ],
   "source": [
    "min(train_data.LoanAmount),max(train_data.LoanAmount)"
   ]
  },
  {
   "cell_type": "code",
   "execution_count": 30,
   "metadata": {},
   "outputs": [
    {
     "data": {
      "image/png": "[encoded data removed]",
      "text/plain": [
       "<Figure size 864x360 with 1 Axes>"
      ]
     },
     "metadata": {
      "needs_background": "light"
     },
     "output_type": "display_data"
    }
   ],
   "source": [
    "bins = [0,100,200,700] \n",
    "group = ['Low','Average','High']\n",
    "train_data['LoanAmount_bin'] = pd.cut(train_data['LoanAmount'], bins, labels = group)\n",
    "LoanAmount_bin = pd.crosstab(train_data['LoanAmount_bin'],train_data['Loan_Status'])\n",
    "LoanAmount_bin.div(LoanAmount_bin.sum(1).astype(float), axis=0).plot(kind = \"bar\", stacked = True, figsize = (12,5))\n",
    "plt.xlabel('LoanAmount')\n",
    "plt.ylabel('Percentage')\n",
    "plt.show()"
   ]
  },
  {
   "cell_type": "markdown",
   "metadata": {},
   "source": [
    "**Observation:**\n",
    "- Our hypthesis for loan amount is true ie, people who take low amount loan have higher chances of approval"
   ]
  },
  {
   "cell_type": "markdown",
   "metadata": {},
   "source": [
    "### For Loan_Amount_Term"
   ]
  },
  {
   "cell_type": "code",
   "execution_count": 31,
   "metadata": {},
   "outputs": [
    {
     "data": {
      "text/plain": [
       "(12.0, 480.0)"
      ]
     },
     "execution_count": 31,
     "metadata": {},
     "output_type": "execute_result"
    }
   ],
   "source": [
    "min(train_data.Loan_Amount_Term),max(train_data.Loan_Amount_Term)"
   ]
  },
  {
   "cell_type": "code",
   "execution_count": 32,
   "metadata": {},
   "outputs": [
    {
     "data": {
      "text/plain": [
       "Text(0, 0.5, 'Percentage')"
      ]
     },
     "execution_count": 32,
     "metadata": {},
     "output_type": "execute_result"
    },
    {
     "data": {
      "image/png": "[encoded data removed]",
      "text/plain": [
       "<Figure size 864x360 with 1 Axes>"
      ]
     },
     "metadata": {
      "needs_background": "light"
     },
     "output_type": "display_data"
    }
   ],
   "source": [
    "bins = [0,100,250,480] \n",
    "group = ['Low','Average','High']\n",
    "train_data['Loan_Amount_Term_bin'] = pd.cut(train_data['Loan_Amount_Term'], bins, labels = group)\n",
    "Loan_Amount_Term_bin = pd.crosstab(train_data['Loan_Amount_Term_bin'], train_data['Loan_Status'])\n",
    "Loan_Amount_Term_bin.div(Loan_Amount_Term_bin.sum(1).astype(float), axis = 0).plot(kind = \"bar\", stacked = True, figsize = (12,5))\n",
    "plt.xlabel('Loan_Amount_Term')\n",
    "plt.ylabel('Percentage')"
   ]
  },
  {
   "cell_type": "markdown",
   "metadata": {},
   "source": [
    "**Observations:**\n",
    "- Our hypothesis that if time for loan taken is less than their is high chances that loan to be repayed is not true at all"
   ]
  },
  {
   "cell_type": "markdown",
   "metadata": {},
   "source": [
    "# Feature Engineering"
   ]
  },
  {
   "cell_type": "markdown",
   "metadata": {},
   "source": [
    "### Now we can create some new features\n",
    "\n",
    "1. **Total_income** = ApplicantIncome + CoapplicantIncome : From above plots we can see if Total_income is high then chances of loan approval is high.\n",
    "\n",
    "\n",
    "2. **EMI in thousands** = LoanAmount / Loan_Amount_Term : If EMI is high then their is less chances that EMI be payed.\n",
    "\n",
    "\n",
    "3. **Income left** = Total_income - EMI : It is income left after payment of EMI. If this value is high, the chances are high that a person will repay the loan and hence increasing the chances of loan approval. Generally banks have interest rates for housing oans in between 7.5 - 9 % pa so for calculation of EMI we are going to take 8 % pa.\n",
    "\n",
    "* EMI = [P x R x (1+R)^N]/[(1+R)^N-1], where P stands for the loan amount or principal, R is the interest rate per month [if the interest rate per annum is 11%, then the rate of interest will be 11/(12 x 100)], and N is the number of monthly instalments."
   ]
  },
  {
   "cell_type": "code",
   "execution_count": 33,
   "metadata": {},
   "outputs": [],
   "source": [
    "def emi(p, r, t):\n",
    "    \n",
    "    # for one month interest\n",
    "    r = r/(12*100)\n",
    "    \n",
    "    # for month period\n",
    "    t = t\n",
    "    \n",
    "    emi = (p*r*pow(1+r,t))/(pow(1+r,t)-1) \n",
    "    return emi "
   ]
  },
  {
   "cell_type": "code",
   "execution_count": 34,
   "metadata": {},
   "outputs": [],
   "source": [
    "train_data['Total_Income'] = train_data['ApplicantIncome'] + train_data['CoapplicantIncome']\n",
    "test_data['Total_Income'] = test_data['ApplicantIncome'] + test_data['CoapplicantIncome']\n",
    "\n",
    "train_data['EMI'] = emi(train_data['LoanAmount'], 8, train_data['Loan_Amount_Term'])\n",
    "test_data['EMI'] = emi(test_data['LoanAmount'], 8, test_data['Loan_Amount_Term'])\n",
    "\n",
    "train_data['Income_left'] = train_data['Total_Income'] - (train_data['EMI']*12) \n",
    "test_data['Income_left'] = test_data['Total_Income'] - (test_data['EMI']*12)"
   ]
  },
  {
   "cell_type": "code",
   "execution_count": 35,
   "metadata": {
    "scrolled": true
   },
   "outputs": [
    {
     "data": {
      "text/html": [
       "<div>\n",
       "<style scoped>\n",
       "    .dataframe tbody tr th:only-of-type {\n",
       "        vertical-align: middle;\n",
       "    }\n",
       "\n",
       "    .dataframe tbody tr th {\n",
       "        vertical-align: top;\n",
       "    }\n",
       "\n",
       "    .dataframe thead th {\n",
       "        text-align: right;\n",
       "    }\n",
       "</style>\n",
       "<table border=\"1\" class=\"dataframe\">\n",
       "  <thead>\n",
       "    <tr style=\"text-align: right;\">\n",
       "      <th></th>\n",
       "      <th>Loan_ID</th>\n",
       "      <th>Gender</th>\n",
       "      <th>Married</th>\n",
       "      <th>Dependents</th>\n",
       "      <th>Education</th>\n",
       "      <th>Self_Employed</th>\n",
       "      <th>ApplicantIncome</th>\n",
       "      <th>CoapplicantIncome</th>\n",
       "      <th>LoanAmount</th>\n",
       "      <th>Loan_Amount_Term</th>\n",
       "      <th>...</th>\n",
       "      <th>Property_Area</th>\n",
       "      <th>Loan_Status</th>\n",
       "      <th>Income_bin</th>\n",
       "      <th>Coapplicant_Income_bin</th>\n",
       "      <th>Total_Income</th>\n",
       "      <th>Total_Income_bin</th>\n",
       "      <th>LoanAmount_bin</th>\n",
       "      <th>Loan_Amount_Term_bin</th>\n",
       "      <th>EMI</th>\n",
       "      <th>Income_left</th>\n",
       "    </tr>\n",
       "  </thead>\n",
       "  <tbody>\n",
       "    <tr>\n",
       "      <th>0</th>\n",
       "      <td>LP001002</td>\n",
       "      <td>Male</td>\n",
       "      <td>No</td>\n",
       "      <td>0</td>\n",
       "      <td>Graduate</td>\n",
       "      <td>No</td>\n",
       "      <td>5849</td>\n",
       "      <td>0.0</td>\n",
       "      <td>128.0</td>\n",
       "      <td>360.0</td>\n",
       "      <td>...</td>\n",
       "      <td>Urban</td>\n",
       "      <td>1</td>\n",
       "      <td>Average</td>\n",
       "      <td>NaN</td>\n",
       "      <td>5849.0</td>\n",
       "      <td>High</td>\n",
       "      <td>Average</td>\n",
       "      <td>High</td>\n",
       "      <td>0.939219</td>\n",
       "      <td>5837.729376</td>\n",
       "    </tr>\n",
       "    <tr>\n",
       "      <th>1</th>\n",
       "      <td>LP001003</td>\n",
       "      <td>Male</td>\n",
       "      <td>Yes</td>\n",
       "      <td>1</td>\n",
       "      <td>Graduate</td>\n",
       "      <td>No</td>\n",
       "      <td>4583</td>\n",
       "      <td>1508.0</td>\n",
       "      <td>128.0</td>\n",
       "      <td>360.0</td>\n",
       "      <td>...</td>\n",
       "      <td>Rural</td>\n",
       "      <td>0</td>\n",
       "      <td>Low</td>\n",
       "      <td>Average</td>\n",
       "      <td>6091.0</td>\n",
       "      <td>Very high</td>\n",
       "      <td>Average</td>\n",
       "      <td>High</td>\n",
       "      <td>0.939219</td>\n",
       "      <td>6079.729376</td>\n",
       "    </tr>\n",
       "    <tr>\n",
       "      <th>2</th>\n",
       "      <td>LP001005</td>\n",
       "      <td>Male</td>\n",
       "      <td>Yes</td>\n",
       "      <td>0</td>\n",
       "      <td>Graduate</td>\n",
       "      <td>Yes</td>\n",
       "      <td>3000</td>\n",
       "      <td>0.0</td>\n",
       "      <td>66.0</td>\n",
       "      <td>360.0</td>\n",
       "      <td>...</td>\n",
       "      <td>Urban</td>\n",
       "      <td>1</td>\n",
       "      <td>Low</td>\n",
       "      <td>NaN</td>\n",
       "      <td>3000.0</td>\n",
       "      <td>Average</td>\n",
       "      <td>Low</td>\n",
       "      <td>High</td>\n",
       "      <td>0.484285</td>\n",
       "      <td>2994.188585</td>\n",
       "    </tr>\n",
       "    <tr>\n",
       "      <th>3</th>\n",
       "      <td>LP001006</td>\n",
       "      <td>Male</td>\n",
       "      <td>Yes</td>\n",
       "      <td>0</td>\n",
       "      <td>Not Graduate</td>\n",
       "      <td>No</td>\n",
       "      <td>2583</td>\n",
       "      <td>2358.0</td>\n",
       "      <td>120.0</td>\n",
       "      <td>360.0</td>\n",
       "      <td>...</td>\n",
       "      <td>Urban</td>\n",
       "      <td>1</td>\n",
       "      <td>Low</td>\n",
       "      <td>Average</td>\n",
       "      <td>4941.0</td>\n",
       "      <td>High</td>\n",
       "      <td>Average</td>\n",
       "      <td>High</td>\n",
       "      <td>0.880517</td>\n",
       "      <td>4930.433790</td>\n",
       "    </tr>\n",
       "    <tr>\n",
       "      <th>4</th>\n",
       "      <td>LP001008</td>\n",
       "      <td>Male</td>\n",
       "      <td>No</td>\n",
       "      <td>0</td>\n",
       "      <td>Graduate</td>\n",
       "      <td>No</td>\n",
       "      <td>6000</td>\n",
       "      <td>0.0</td>\n",
       "      <td>141.0</td>\n",
       "      <td>360.0</td>\n",
       "      <td>...</td>\n",
       "      <td>Urban</td>\n",
       "      <td>1</td>\n",
       "      <td>Average</td>\n",
       "      <td>NaN</td>\n",
       "      <td>6000.0</td>\n",
       "      <td>High</td>\n",
       "      <td>Average</td>\n",
       "      <td>High</td>\n",
       "      <td>1.034608</td>\n",
       "      <td>5987.584703</td>\n",
       "    </tr>\n",
       "  </tbody>\n",
       "</table>\n",
       "<p>5 rows × 21 columns</p>\n",
       "</div>"
      ],
      "text/plain": [
       "    Loan_ID Gender Married Dependents     Education Self_Employed  \\\n",
       "0  LP001002   Male      No          0      Graduate            No   \n",
       "1  LP001003   Male     Yes          1      Graduate            No   \n",
       "2  LP001005   Male     Yes          0      Graduate           Yes   \n",
       "3  LP001006   Male     Yes          0  Not Graduate            No   \n",
       "4  LP001008   Male      No          0      Graduate            No   \n",
       "\n",
       "   ApplicantIncome  CoapplicantIncome  LoanAmount  Loan_Amount_Term  ...  \\\n",
       "0             5849                0.0       128.0             360.0  ...   \n",
       "1             4583             1508.0       128.0             360.0  ...   \n",
       "2             3000                0.0        66.0             360.0  ...   \n",
       "3             2583             2358.0       120.0             360.0  ...   \n",
       "4             6000                0.0       141.0             360.0  ...   \n",
       "\n",
       "   Property_Area Loan_Status  Income_bin Coapplicant_Income_bin Total_Income  \\\n",
       "0          Urban           1     Average                    NaN       5849.0   \n",
       "1          Rural           0         Low                Average       6091.0   \n",
       "2          Urban           1         Low                    NaN       3000.0   \n",
       "3          Urban           1         Low                Average       4941.0   \n",
       "4          Urban           1     Average                    NaN       6000.0   \n",
       "\n",
       "   Total_Income_bin LoanAmount_bin Loan_Amount_Term_bin       EMI  Income_left  \n",
       "0              High        Average                 High  0.939219  5837.729376  \n",
       "1         Very high        Average                 High  0.939219  6079.729376  \n",
       "2           Average            Low                 High  0.484285  2994.188585  \n",
       "3              High        Average                 High  0.880517  4930.433790  \n",
       "4              High        Average                 High  1.034608  5987.584703  \n",
       "\n",
       "[5 rows x 21 columns]"
      ]
     },
     "execution_count": 35,
     "metadata": {},
     "output_type": "execute_result"
    }
   ],
   "source": [
    "train_data.head()"
   ]
  },
  {
   "cell_type": "code",
   "execution_count": 36,
   "metadata": {},
   "outputs": [
    {
     "data": {
      "image/png": "[encoded data removed]",
      "text/plain": [
       "<Figure size 1800x1080 with 2 Axes>"
      ]
     },
     "metadata": {
      "needs_background": "light"
     },
     "output_type": "display_data"
    },
    {
     "data": {
      "image/png": "[encoded data removed]",
      "text/plain": [
       "<Figure size 1800x1080 with 2 Axes>"
      ]
     },
     "metadata": {
      "needs_background": "light"
     },
     "output_type": "display_data"
    },
    {
     "data": {
      "image/png": "[encoded data removed]",
      "text/plain": [
       "<Figure size 1800x1080 with 2 Axes>"
      ]
     },
     "metadata": {
      "needs_background": "light"
     },
     "output_type": "display_data"
    }
   ],
   "source": [
    "new_feature = [\"Total_Income\", \"EMI\" ,\"Income_left\"]\n",
    "\n",
    "for x in new_feature:\n",
    "    f = plt.figure()\n",
    "    f.set_size_inches(25,15)\n",
    "    plt.subplot(2,2,1)\n",
    "    sns.distplot(train_data[x])\n",
    "    plt.subplot(2,2,2)\n",
    "    train_data[x].plot.box()\n",
    "    plt.show()"
   ]
  },
  {
   "cell_type": "markdown",
   "metadata": {},
   "source": [
    "From above we can see all of our engineered features are not normal distribution as well as have some outliers"
   ]
  },
  {
   "cell_type": "markdown",
   "metadata": {},
   "source": [
    "### For EMI"
   ]
  },
  {
   "cell_type": "code",
   "execution_count": 37,
   "metadata": {},
   "outputs": [
    {
     "data": {
      "text/plain": [
       "(0.06603881164914402, 9.655715628481843)"
      ]
     },
     "execution_count": 37,
     "metadata": {},
     "output_type": "execute_result"
    }
   ],
   "source": [
    "min(train_data.EMI),max(train_data.EMI)"
   ]
  },
  {
   "cell_type": "code",
   "execution_count": 38,
   "metadata": {},
   "outputs": [
    {
     "data": {
      "text/plain": [
       "Text(0, 0.5, 'Percentage')"
      ]
     },
     "execution_count": 38,
     "metadata": {},
     "output_type": "execute_result"
    },
    {
     "data": {
      "image/png": "[encoded data removed]",
      "text/plain": [
       "<Figure size 864x360 with 1 Axes>"
      ]
     },
     "metadata": {
      "needs_background": "light"
     },
     "output_type": "display_data"
    }
   ],
   "source": [
    "bins = [0,0.5,1,3,10] \n",
    "group = ['Low','Average','High','very High']\n",
    "train_data['EMI_bin'] = pd.cut(train_data['EMI'], bins, labels = group)\n",
    "EMI_bin = pd.crosstab(train_data['EMI_bin'],train_data['Loan_Status'])\n",
    "EMI_bin.div(EMI_bin.sum(1).astype(float), axis = 0).plot(kind = \"bar\", stacked = True, figsize = (12,5))\n",
    "plt.xlabel('EMI')\n",
    "plt.ylabel('Percentage')"
   ]
  },
  {
   "cell_type": "markdown",
   "metadata": {},
   "source": [
    "**Observations:**\n",
    "- We Can see that the Appicants who have low EMI have more loan approvals"
   ]
  },
  {
   "cell_type": "markdown",
   "metadata": {},
   "source": [
    "### Log transform for the Features containing Outiers : LoanAmount, ApplicantIncome, ... Total_Income, EMI"
   ]
  },
  {
   "cell_type": "code",
   "execution_count": 39,
   "metadata": {},
   "outputs": [],
   "source": [
    "train_data['LoanAmount_log'] = np.log(train_data['LoanAmount'])\n",
    "test_data['LoanAmount_log'] = np.log(test_data['LoanAmount'])\n",
    "\n",
    "train_data['ApplicantIncome_log'] = np.log(train_data['ApplicantIncome'])\n",
    "test_data['ApplicantIncome_log'] = np.log(test_data['ApplicantIncome'])\n",
    "\n",
    "train_data['Total_Income_log'] = np.log(train_data['Total_Income'])\n",
    "test_data['Total_Income_log'] = np.log(test_data['Total_Income'])\n",
    "\n",
    "train_data['EMI_log'] = np.log(train_data['EMI'])\n",
    "test_data['EMI_log'] = np.log(test_data['EMI'])\n",
    "\n",
    "train_data[\"CoapplicantIncome_log\"] = [np.log(i) if i != 0 else 0 for i in train_data[\"CoapplicantIncome\"]]\n",
    "test_data[\"CoapplicantIncome_log\"] = [np.log(i) if i != 0 else 0 for i in test_data[\"CoapplicantIncome\"]]\n",
    "\n",
    "train_data[\"Income_Left_log\"] = [np.log(i) if i != 0 else 0 for i in train_data[\"Income_left\"]]\n",
    "test_data[\"Income_Left_log\"] = [np.log(i) if i != 0 else 0 for i in test_data[\"Income_left\"]]"
   ]
  },
  {
   "cell_type": "code",
   "execution_count": 40,
   "metadata": {
    "scrolled": false
   },
   "outputs": [
    {
     "name": "stdout",
     "output_type": "stream",
     "text": [
      "For :  LoanAmount_log\n"
     ]
    },
    {
     "data": {
      "text/plain": [
       "<Figure size 1800x1080 with 0 Axes>"
      ]
     },
     "metadata": {},
     "output_type": "display_data"
    },
    {
     "data": {
      "image/png": "[encoded data removed]",
      "text/plain": [
       "<Figure size 428.625x360 with 1 Axes>"
      ]
     },
     "metadata": {
      "needs_background": "light"
     },
     "output_type": "display_data"
    },
    {
     "data": {
      "image/png": "[encoded data removed]",
      "text/plain": [
       "<Figure size 432x288 with 1 Axes>"
      ]
     },
     "metadata": {
      "needs_background": "light"
     },
     "output_type": "display_data"
    },
    {
     "name": "stdout",
     "output_type": "stream",
     "text": [
      "For :  ApplicantIncome_log\n"
     ]
    },
    {
     "data": {
      "text/plain": [
       "<Figure size 1800x1080 with 0 Axes>"
      ]
     },
     "metadata": {},
     "output_type": "display_data"
    },
    {
     "data": {
      "image/png": "[encoded data removed]",
      "text/plain": [
       "<Figure size 428.625x360 with 1 Axes>"
      ]
     },
     "metadata": {
      "needs_background": "light"
     },
     "output_type": "display_data"
    },
    {
     "data": {
      "image/png": "[encoded data removed]",
      "text/plain": [
       "<Figure size 432x288 with 1 Axes>"
      ]
     },
     "metadata": {
      "needs_background": "light"
     },
     "output_type": "display_data"
    },
    {
     "name": "stdout",
     "output_type": "stream",
     "text": [
      "For :  Total_Income_log\n"
     ]
    },
    {
     "data": {
      "text/plain": [
       "<Figure size 1800x1080 with 0 Axes>"
      ]
     },
     "metadata": {},
     "output_type": "display_data"
    },
    {
     "data": {
      "image/png": "[encoded data removed]",
      "text/plain": [
       "<Figure size 428.625x360 with 1 Axes>"
      ]
     },
     "metadata": {
      "needs_background": "light"
     },
     "output_type": "display_data"
    },
    {
     "data": {
      "image/png": "[encoded data removed]",
      "text/plain": [
       "<Figure size 432x288 with 1 Axes>"
      ]
     },
     "metadata": {
      "needs_background": "light"
     },
     "output_type": "display_data"
    },
    {
     "name": "stdout",
     "output_type": "stream",
     "text": [
      "For :  EMI_log\n"
     ]
    },
    {
     "data": {
      "text/plain": [
       "<Figure size 1800x1080 with 0 Axes>"
      ]
     },
     "metadata": {},
     "output_type": "display_data"
    },
    {
     "data": {
      "image/png": "[encoded data removed]",
      "text/plain": [
       "<Figure size 428.625x360 with 1 Axes>"
      ]
     },
     "metadata": {
      "needs_background": "light"
     },
     "output_type": "display_data"
    },
    {
     "data": {
      "image/png": "[encoded data removed]",
      "text/plain": [
       "<Figure size 432x288 with 1 Axes>"
      ]
     },
     "metadata": {
      "needs_background": "light"
     },
     "output_type": "display_data"
    },
    {
     "name": "stdout",
     "output_type": "stream",
     "text": [
      "For :  CoapplicantIncome_log\n"
     ]
    },
    {
     "data": {
      "text/plain": [
       "<Figure size 1800x1080 with 0 Axes>"
      ]
     },
     "metadata": {},
     "output_type": "display_data"
    },
    {
     "data": {
      "image/png": "[encoded data removed]",
      "text/plain": [
       "<Figure size 428.625x360 with 1 Axes>"
      ]
     },
     "metadata": {
      "needs_background": "light"
     },
     "output_type": "display_data"
    },
    {
     "data": {
      "image/png": "[encoded data removed]",
      "text/plain": [
       "<Figure size 432x288 with 1 Axes>"
      ]
     },
     "metadata": {
      "needs_background": "light"
     },
     "output_type": "display_data"
    },
    {
     "name": "stdout",
     "output_type": "stream",
     "text": [
      "For :  Income_Left_log\n"
     ]
    },
    {
     "data": {
      "text/plain": [
       "<Figure size 1800x1080 with 0 Axes>"
      ]
     },
     "metadata": {},
     "output_type": "display_data"
    },
    {
     "data": {
      "image/png": "[encoded data removed]",
      "text/plain": [
       "<Figure size 428.625x360 with 1 Axes>"
      ]
     },
     "metadata": {
      "needs_background": "light"
     },
     "output_type": "display_data"
    },
    {
     "data": {
      "image/png": "[encoded data removed]",
      "text/plain": [
       "<Figure size 432x288 with 1 Axes>"
      ]
     },
     "metadata": {
      "needs_background": "light"
     },
     "output_type": "display_data"
    }
   ],
   "source": [
    "log_numeric = [\"LoanAmount_log\",\"ApplicantIncome_log\",\"Total_Income_log\",\"EMI_log\", \"CoapplicantIncome_log\", \n",
    "              \"Income_Left_log\"]\n",
    "\n",
    "for x in log_numeric:\n",
    "    f = plt.figure()\n",
    "    f.set_size_inches(25,15)\n",
    "    print(\"For : \", x)\n",
    "    sns.FacetGrid(train_data, hue = \"Loan_Status\", size = 5) \\\n",
    "       .map(sns.distplot, x) \\\n",
    "       .add_legend();\n",
    "    plt.show(); \n",
    "   \n",
    "    sns.boxplot(x='Loan_Status',y = x, data = train_data)\n",
    "    plt.show()"
   ]
  },
  {
   "cell_type": "markdown",
   "metadata": {},
   "source": [
    "* Now features are nearly normaly distributed after log transformation of features"
   ]
  },
  {
   "cell_type": "code",
   "execution_count": 41,
   "metadata": {},
   "outputs": [
    {
     "data": {
      "text/html": [
       "<div>\n",
       "<style scoped>\n",
       "    .dataframe tbody tr th:only-of-type {\n",
       "        vertical-align: middle;\n",
       "    }\n",
       "\n",
       "    .dataframe tbody tr th {\n",
       "        vertical-align: top;\n",
       "    }\n",
       "\n",
       "    .dataframe thead th {\n",
       "        text-align: right;\n",
       "    }\n",
       "</style>\n",
       "<table border=\"1\" class=\"dataframe\">\n",
       "  <thead>\n",
       "    <tr style=\"text-align: right;\">\n",
       "      <th></th>\n",
       "      <th>Loan_ID</th>\n",
       "      <th>Gender</th>\n",
       "      <th>Married</th>\n",
       "      <th>Dependents</th>\n",
       "      <th>Education</th>\n",
       "      <th>Self_Employed</th>\n",
       "      <th>ApplicantIncome</th>\n",
       "      <th>CoapplicantIncome</th>\n",
       "      <th>LoanAmount</th>\n",
       "      <th>Loan_Amount_Term</th>\n",
       "      <th>...</th>\n",
       "      <th>Loan_Amount_Term_bin</th>\n",
       "      <th>EMI</th>\n",
       "      <th>Income_left</th>\n",
       "      <th>EMI_bin</th>\n",
       "      <th>LoanAmount_log</th>\n",
       "      <th>ApplicantIncome_log</th>\n",
       "      <th>Total_Income_log</th>\n",
       "      <th>EMI_log</th>\n",
       "      <th>CoapplicantIncome_log</th>\n",
       "      <th>Income_Left_log</th>\n",
       "    </tr>\n",
       "  </thead>\n",
       "  <tbody>\n",
       "    <tr>\n",
       "      <th>0</th>\n",
       "      <td>LP001002</td>\n",
       "      <td>Male</td>\n",
       "      <td>No</td>\n",
       "      <td>0</td>\n",
       "      <td>Graduate</td>\n",
       "      <td>No</td>\n",
       "      <td>5849</td>\n",
       "      <td>0.0</td>\n",
       "      <td>128.0</td>\n",
       "      <td>360.0</td>\n",
       "      <td>...</td>\n",
       "      <td>High</td>\n",
       "      <td>0.939219</td>\n",
       "      <td>5837.729376</td>\n",
       "      <td>Average</td>\n",
       "      <td>4.852030</td>\n",
       "      <td>8.674026</td>\n",
       "      <td>8.674026</td>\n",
       "      <td>-0.062707</td>\n",
       "      <td>0.000000</td>\n",
       "      <td>8.672097</td>\n",
       "    </tr>\n",
       "    <tr>\n",
       "      <th>1</th>\n",
       "      <td>LP001003</td>\n",
       "      <td>Male</td>\n",
       "      <td>Yes</td>\n",
       "      <td>1</td>\n",
       "      <td>Graduate</td>\n",
       "      <td>No</td>\n",
       "      <td>4583</td>\n",
       "      <td>1508.0</td>\n",
       "      <td>128.0</td>\n",
       "      <td>360.0</td>\n",
       "      <td>...</td>\n",
       "      <td>High</td>\n",
       "      <td>0.939219</td>\n",
       "      <td>6079.729376</td>\n",
       "      <td>Average</td>\n",
       "      <td>4.852030</td>\n",
       "      <td>8.430109</td>\n",
       "      <td>8.714568</td>\n",
       "      <td>-0.062707</td>\n",
       "      <td>7.318540</td>\n",
       "      <td>8.712715</td>\n",
       "    </tr>\n",
       "    <tr>\n",
       "      <th>2</th>\n",
       "      <td>LP001005</td>\n",
       "      <td>Male</td>\n",
       "      <td>Yes</td>\n",
       "      <td>0</td>\n",
       "      <td>Graduate</td>\n",
       "      <td>Yes</td>\n",
       "      <td>3000</td>\n",
       "      <td>0.0</td>\n",
       "      <td>66.0</td>\n",
       "      <td>360.0</td>\n",
       "      <td>...</td>\n",
       "      <td>High</td>\n",
       "      <td>0.484285</td>\n",
       "      <td>2994.188585</td>\n",
       "      <td>Low</td>\n",
       "      <td>4.189655</td>\n",
       "      <td>8.006368</td>\n",
       "      <td>8.006368</td>\n",
       "      <td>-0.725082</td>\n",
       "      <td>0.000000</td>\n",
       "      <td>8.004429</td>\n",
       "    </tr>\n",
       "    <tr>\n",
       "      <th>3</th>\n",
       "      <td>LP001006</td>\n",
       "      <td>Male</td>\n",
       "      <td>Yes</td>\n",
       "      <td>0</td>\n",
       "      <td>Not Graduate</td>\n",
       "      <td>No</td>\n",
       "      <td>2583</td>\n",
       "      <td>2358.0</td>\n",
       "      <td>120.0</td>\n",
       "      <td>360.0</td>\n",
       "      <td>...</td>\n",
       "      <td>High</td>\n",
       "      <td>0.880517</td>\n",
       "      <td>4930.433790</td>\n",
       "      <td>Average</td>\n",
       "      <td>4.787492</td>\n",
       "      <td>7.856707</td>\n",
       "      <td>8.505323</td>\n",
       "      <td>-0.127245</td>\n",
       "      <td>7.765569</td>\n",
       "      <td>8.503182</td>\n",
       "    </tr>\n",
       "    <tr>\n",
       "      <th>4</th>\n",
       "      <td>LP001008</td>\n",
       "      <td>Male</td>\n",
       "      <td>No</td>\n",
       "      <td>0</td>\n",
       "      <td>Graduate</td>\n",
       "      <td>No</td>\n",
       "      <td>6000</td>\n",
       "      <td>0.0</td>\n",
       "      <td>141.0</td>\n",
       "      <td>360.0</td>\n",
       "      <td>...</td>\n",
       "      <td>High</td>\n",
       "      <td>1.034608</td>\n",
       "      <td>5987.584703</td>\n",
       "      <td>High</td>\n",
       "      <td>4.948760</td>\n",
       "      <td>8.699515</td>\n",
       "      <td>8.699515</td>\n",
       "      <td>0.034023</td>\n",
       "      <td>0.000000</td>\n",
       "      <td>8.697443</td>\n",
       "    </tr>\n",
       "  </tbody>\n",
       "</table>\n",
       "<p>5 rows × 28 columns</p>\n",
       "</div>"
      ],
      "text/plain": [
       "    Loan_ID Gender Married Dependents     Education Self_Employed  \\\n",
       "0  LP001002   Male      No          0      Graduate            No   \n",
       "1  LP001003   Male     Yes          1      Graduate            No   \n",
       "2  LP001005   Male     Yes          0      Graduate           Yes   \n",
       "3  LP001006   Male     Yes          0  Not Graduate            No   \n",
       "4  LP001008   Male      No          0      Graduate            No   \n",
       "\n",
       "   ApplicantIncome  CoapplicantIncome  LoanAmount  Loan_Amount_Term  ...  \\\n",
       "0             5849                0.0       128.0             360.0  ...   \n",
       "1             4583             1508.0       128.0             360.0  ...   \n",
       "2             3000                0.0        66.0             360.0  ...   \n",
       "3             2583             2358.0       120.0             360.0  ...   \n",
       "4             6000                0.0       141.0             360.0  ...   \n",
       "\n",
       "   Loan_Amount_Term_bin       EMI  Income_left  EMI_bin LoanAmount_log  \\\n",
       "0                  High  0.939219  5837.729376  Average       4.852030   \n",
       "1                  High  0.939219  6079.729376  Average       4.852030   \n",
       "2                  High  0.484285  2994.188585      Low       4.189655   \n",
       "3                  High  0.880517  4930.433790  Average       4.787492   \n",
       "4                  High  1.034608  5987.584703     High       4.948760   \n",
       "\n",
       "   ApplicantIncome_log Total_Income_log   EMI_log CoapplicantIncome_log  \\\n",
       "0             8.674026         8.674026 -0.062707              0.000000   \n",
       "1             8.430109         8.714568 -0.062707              7.318540   \n",
       "2             8.006368         8.006368 -0.725082              0.000000   \n",
       "3             7.856707         8.505323 -0.127245              7.765569   \n",
       "4             8.699515         8.699515  0.034023              0.000000   \n",
       "\n",
       "   Income_Left_log  \n",
       "0         8.672097  \n",
       "1         8.712715  \n",
       "2         8.004429  \n",
       "3         8.503182  \n",
       "4         8.697443  \n",
       "\n",
       "[5 rows x 28 columns]"
      ]
     },
     "execution_count": 41,
     "metadata": {},
     "output_type": "execute_result"
    }
   ],
   "source": [
    "train_data.head()"
   ]
  },
  {
   "cell_type": "markdown",
   "metadata": {},
   "source": [
    "### Drop Some Unwanted Features"
   ]
  },
  {
   "cell_type": "code",
   "execution_count": 42,
   "metadata": {},
   "outputs": [
    {
     "data": {
      "text/html": [
       "<div>\n",
       "<style scoped>\n",
       "    .dataframe tbody tr th:only-of-type {\n",
       "        vertical-align: middle;\n",
       "    }\n",
       "\n",
       "    .dataframe tbody tr th {\n",
       "        vertical-align: top;\n",
       "    }\n",
       "\n",
       "    .dataframe thead th {\n",
       "        text-align: right;\n",
       "    }\n",
       "</style>\n",
       "<table border=\"1\" class=\"dataframe\">\n",
       "  <thead>\n",
       "    <tr style=\"text-align: right;\">\n",
       "      <th></th>\n",
       "      <th>Gender</th>\n",
       "      <th>Married</th>\n",
       "      <th>Dependents</th>\n",
       "      <th>Education</th>\n",
       "      <th>Self_Employed</th>\n",
       "      <th>ApplicantIncome</th>\n",
       "      <th>CoapplicantIncome</th>\n",
       "      <th>LoanAmount</th>\n",
       "      <th>Loan_Amount_Term</th>\n",
       "      <th>Credit_History</th>\n",
       "      <th>Property_Area</th>\n",
       "      <th>Loan_Status</th>\n",
       "      <th>EMI</th>\n",
       "      <th>Income_left</th>\n",
       "      <th>LoanAmount_log</th>\n",
       "      <th>ApplicantIncome_log</th>\n",
       "      <th>Total_Income_log</th>\n",
       "      <th>EMI_log</th>\n",
       "      <th>CoapplicantIncome_log</th>\n",
       "      <th>Income_Left_log</th>\n",
       "    </tr>\n",
       "  </thead>\n",
       "  <tbody>\n",
       "    <tr>\n",
       "      <th>0</th>\n",
       "      <td>Male</td>\n",
       "      <td>No</td>\n",
       "      <td>0</td>\n",
       "      <td>Graduate</td>\n",
       "      <td>No</td>\n",
       "      <td>5849</td>\n",
       "      <td>0.0</td>\n",
       "      <td>128.0</td>\n",
       "      <td>360.0</td>\n",
       "      <td>1.0</td>\n",
       "      <td>Urban</td>\n",
       "      <td>1</td>\n",
       "      <td>0.939219</td>\n",
       "      <td>5837.729376</td>\n",
       "      <td>4.852030</td>\n",
       "      <td>8.674026</td>\n",
       "      <td>8.674026</td>\n",
       "      <td>-0.062707</td>\n",
       "      <td>0.000000</td>\n",
       "      <td>8.672097</td>\n",
       "    </tr>\n",
       "    <tr>\n",
       "      <th>1</th>\n",
       "      <td>Male</td>\n",
       "      <td>Yes</td>\n",
       "      <td>1</td>\n",
       "      <td>Graduate</td>\n",
       "      <td>No</td>\n",
       "      <td>4583</td>\n",
       "      <td>1508.0</td>\n",
       "      <td>128.0</td>\n",
       "      <td>360.0</td>\n",
       "      <td>1.0</td>\n",
       "      <td>Rural</td>\n",
       "      <td>0</td>\n",
       "      <td>0.939219</td>\n",
       "      <td>6079.729376</td>\n",
       "      <td>4.852030</td>\n",
       "      <td>8.430109</td>\n",
       "      <td>8.714568</td>\n",
       "      <td>-0.062707</td>\n",
       "      <td>7.318540</td>\n",
       "      <td>8.712715</td>\n",
       "    </tr>\n",
       "    <tr>\n",
       "      <th>2</th>\n",
       "      <td>Male</td>\n",
       "      <td>Yes</td>\n",
       "      <td>0</td>\n",
       "      <td>Graduate</td>\n",
       "      <td>Yes</td>\n",
       "      <td>3000</td>\n",
       "      <td>0.0</td>\n",
       "      <td>66.0</td>\n",
       "      <td>360.0</td>\n",
       "      <td>1.0</td>\n",
       "      <td>Urban</td>\n",
       "      <td>1</td>\n",
       "      <td>0.484285</td>\n",
       "      <td>2994.188585</td>\n",
       "      <td>4.189655</td>\n",
       "      <td>8.006368</td>\n",
       "      <td>8.006368</td>\n",
       "      <td>-0.725082</td>\n",
       "      <td>0.000000</td>\n",
       "      <td>8.004429</td>\n",
       "    </tr>\n",
       "    <tr>\n",
       "      <th>3</th>\n",
       "      <td>Male</td>\n",
       "      <td>Yes</td>\n",
       "      <td>0</td>\n",
       "      <td>Not Graduate</td>\n",
       "      <td>No</td>\n",
       "      <td>2583</td>\n",
       "      <td>2358.0</td>\n",
       "      <td>120.0</td>\n",
       "      <td>360.0</td>\n",
       "      <td>1.0</td>\n",
       "      <td>Urban</td>\n",
       "      <td>1</td>\n",
       "      <td>0.880517</td>\n",
       "      <td>4930.433790</td>\n",
       "      <td>4.787492</td>\n",
       "      <td>7.856707</td>\n",
       "      <td>8.505323</td>\n",
       "      <td>-0.127245</td>\n",
       "      <td>7.765569</td>\n",
       "      <td>8.503182</td>\n",
       "    </tr>\n",
       "    <tr>\n",
       "      <th>4</th>\n",
       "      <td>Male</td>\n",
       "      <td>No</td>\n",
       "      <td>0</td>\n",
       "      <td>Graduate</td>\n",
       "      <td>No</td>\n",
       "      <td>6000</td>\n",
       "      <td>0.0</td>\n",
       "      <td>141.0</td>\n",
       "      <td>360.0</td>\n",
       "      <td>1.0</td>\n",
       "      <td>Urban</td>\n",
       "      <td>1</td>\n",
       "      <td>1.034608</td>\n",
       "      <td>5987.584703</td>\n",
       "      <td>4.948760</td>\n",
       "      <td>8.699515</td>\n",
       "      <td>8.699515</td>\n",
       "      <td>0.034023</td>\n",
       "      <td>0.000000</td>\n",
       "      <td>8.697443</td>\n",
       "    </tr>\n",
       "  </tbody>\n",
       "</table>\n",
       "</div>"
      ],
      "text/plain": [
       "  Gender Married Dependents     Education Self_Employed  ApplicantIncome  \\\n",
       "0   Male      No          0      Graduate            No             5849   \n",
       "1   Male     Yes          1      Graduate            No             4583   \n",
       "2   Male     Yes          0      Graduate           Yes             3000   \n",
       "3   Male     Yes          0  Not Graduate            No             2583   \n",
       "4   Male      No          0      Graduate            No             6000   \n",
       "\n",
       "   CoapplicantIncome  LoanAmount  Loan_Amount_Term  Credit_History  \\\n",
       "0                0.0       128.0             360.0             1.0   \n",
       "1             1508.0       128.0             360.0             1.0   \n",
       "2                0.0        66.0             360.0             1.0   \n",
       "3             2358.0       120.0             360.0             1.0   \n",
       "4                0.0       141.0             360.0             1.0   \n",
       "\n",
       "  Property_Area  Loan_Status       EMI  Income_left  LoanAmount_log  \\\n",
       "0         Urban            1  0.939219  5837.729376        4.852030   \n",
       "1         Rural            0  0.939219  6079.729376        4.852030   \n",
       "2         Urban            1  0.484285  2994.188585        4.189655   \n",
       "3         Urban            1  0.880517  4930.433790        4.787492   \n",
       "4         Urban            1  1.034608  5987.584703        4.948760   \n",
       "\n",
       "   ApplicantIncome_log  Total_Income_log   EMI_log  CoapplicantIncome_log  \\\n",
       "0             8.674026          8.674026 -0.062707               0.000000   \n",
       "1             8.430109          8.714568 -0.062707               7.318540   \n",
       "2             8.006368          8.006368 -0.725082               0.000000   \n",
       "3             7.856707          8.505323 -0.127245               7.765569   \n",
       "4             8.699515          8.699515  0.034023               0.000000   \n",
       "\n",
       "   Income_Left_log  \n",
       "0         8.672097  \n",
       "1         8.712715  \n",
       "2         8.004429  \n",
       "3         8.503182  \n",
       "4         8.697443  "
      ]
     },
     "execution_count": 42,
     "metadata": {},
     "output_type": "execute_result"
    }
   ],
   "source": [
    "train_data = train_data.drop(['Income_bin', 'Coapplicant_Income_bin', 'LoanAmount_bin', 'Total_Income_bin', 'Total_Income', 'EMI_bin', 'Loan_ID','Loan_Amount_Term_bin'], axis = 1)\n",
    "train_data.head()"
   ]
  },
  {
   "cell_type": "markdown",
   "metadata": {},
   "source": [
    "### From above hypothesis :\n",
    "\n",
    "* Education , ApplicantIncome , LoanAmount, Credit_History , EMI and Total income which is ApplicantIncome  + CoapplicantIncome  gives proof of hypothesis related to CoapplicantIncome & ApplicantIncome"
   ]
  },
  {
   "cell_type": "markdown",
   "metadata": {},
   "source": [
    "### Final Correlation Matrix"
   ]
  },
  {
   "cell_type": "code",
   "execution_count": 43,
   "metadata": {},
   "outputs": [
    {
     "data": {
      "image/png": "[encoded data removed]",
      "text/plain": [
       "<Figure size 432x288 with 2 Axes>"
      ]
     },
     "metadata": {
      "needs_background": "light"
     },
     "output_type": "display_data"
    }
   ],
   "source": [
    "train_data['Loan_Status'].replace('N', 0,inplace = True)\n",
    "train_data['Loan_Status'].replace('Y', 1,inplace = True)\n",
    "\n",
    "corr = train_data.corr()\n",
    "sns.heatmap(corr, vmax =.8, square = True, cmap = \"coolwarm\");\n",
    "# 'RdBu_r' & 'BrBG' are other good diverging colormaps\n"
   ]
  },
  {
   "cell_type": "markdown",
   "metadata": {},
   "source": [
    "### Encoding the Categorical Variables"
   ]
  },
  {
   "cell_type": "code",
   "execution_count": 44,
   "metadata": {},
   "outputs": [],
   "source": [
    "# As we have seen above Lots of Categorical Variables need to change into Categorical\n",
    "# Now perform Label Encoding for Categorical Variables\n",
    "\n",
    "le = LabelEncoder()\n",
    "\n",
    "train_data[\"Gender\"] = le.fit_transform(train_data[\"Gender\"])\n",
    "train_data[\"Married\"] = le.fit_transform(train_data[\"Married\"])\n",
    "train_data[\"Education\"] = le.fit_transform(train_data[\"Education\"])\n",
    "train_data[\"Self_Employed\"] = le.fit_transform(train_data[\"Self_Employed\"])\n",
    "train_data[\"Property_Area\"] = le.fit_transform(train_data[\"Property_Area\"])\n",
    "train_data[\"Loan_Status\"] = le.fit_transform(train_data[\"Loan_Status\"])\n",
    "train_data[\"Dependents\"] = le.fit_transform(train_data[\"Dependents\"])"
   ]
  },
  {
   "cell_type": "markdown",
   "metadata": {},
   "source": [
    "### Having a Look on data Balanced or not"
   ]
  },
  {
   "cell_type": "code",
   "execution_count": 45,
   "metadata": {},
   "outputs": [
    {
     "name": "stdout",
     "output_type": "stream",
     "text": [
      "Count of Approved Loans :  422\n",
      "Count of Rejected Loans:  192\n"
     ]
    }
   ],
   "source": [
    "Yes = sum(train_data.Loan_Status == 1)\n",
    "No  = sum(train_data.Loan_Status == 0)\n",
    "print('Count of Approved Loans : ', Yes)\n",
    "print('Count of Rejected Loans: ', No)"
   ]
  },
  {
   "cell_type": "markdown",
   "metadata": {},
   "source": [
    "**Observations:**\n",
    "1. It seems that dataset contains more records with Approved Loan_Status than Rejected Loan_Status. Hence data is highly Imbalanced.\n",
    "2. If data would have maximum of 20-30 records difference that time this imabalnced would be ignorable. But now due to this impalanceness we might lead to make wrong assumptions by model and also model will be biased after training. \n",
    "3. We will overcome this issue by balancing the data. To overcome this problem we will balance the data using Resampling techniques like Upsampling and Downsampling."
   ]
  },
  {
   "cell_type": "markdown",
   "metadata": {},
   "source": [
    "### Upsampling and Downsampling"
   ]
  },
  {
   "cell_type": "code",
   "execution_count": 46,
   "metadata": {},
   "outputs": [
    {
     "name": "stdout",
     "output_type": "stream",
     "text": [
      "Downsampled data:- \n",
      " 1    192\n",
      "0    192\n",
      "Name: Loan_Status, dtype: int64\n",
      "Upsampled data:- \n",
      " 1    422\n",
      "0    422\n",
      "Name: Loan_Status, dtype: int64\n"
     ]
    }
   ],
   "source": [
    "# To keep original data as it is to use the same for later.\n",
    "new_train_data = train_data.copy()\n",
    "\n",
    "# Getting seperated data with 1 and 0 status.\n",
    "df_majority = new_train_data[new_train_data.Loan_Status == 1]\n",
    "df_minority = new_train_data[new_train_data.Loan_Status == 0]\n",
    "\n",
    "# Here we are downsampling the Majority Class Data Points. \n",
    "# i.e. We will get equal amount of datapoint as Minority class from Majority class\n",
    "\n",
    "df_manjority_downsampled = resample(df_majority, replace = False, n_samples = 192, random_state = 123)\n",
    "df_downsampled = pd.concat([df_manjority_downsampled, df_minority])\n",
    "print(\"Downsampled data:- \\n\", df_downsampled.Loan_Status.value_counts())\n",
    "\n",
    "# Here we are upsampling the Minority Class Data Points. \n",
    "# i.e. We will get equal amount of datapoint as Majority class from Minority class\n",
    "df_minority_upsampled = resample(df_minority, replace = True, n_samples = 422, random_state = 123)\n",
    "df_upsampled = pd.concat([df_majority, df_minority_upsampled])\n",
    "print(\"Upsampled data:- \\n\", df_upsampled.Loan_Status.value_counts())"
   ]
  },
  {
   "cell_type": "code",
   "execution_count": 47,
   "metadata": {},
   "outputs": [
    {
     "data": {
      "text/html": [
       "<div>\n",
       "<style scoped>\n",
       "    .dataframe tbody tr th:only-of-type {\n",
       "        vertical-align: middle;\n",
       "    }\n",
       "\n",
       "    .dataframe tbody tr th {\n",
       "        vertical-align: top;\n",
       "    }\n",
       "\n",
       "    .dataframe thead th {\n",
       "        text-align: right;\n",
       "    }\n",
       "</style>\n",
       "<table border=\"1\" class=\"dataframe\">\n",
       "  <thead>\n",
       "    <tr style=\"text-align: right;\">\n",
       "      <th></th>\n",
       "      <th>Gender</th>\n",
       "      <th>Married</th>\n",
       "      <th>Dependents</th>\n",
       "      <th>Education</th>\n",
       "      <th>Self_Employed</th>\n",
       "      <th>ApplicantIncome</th>\n",
       "      <th>CoapplicantIncome</th>\n",
       "      <th>LoanAmount</th>\n",
       "      <th>Loan_Amount_Term</th>\n",
       "      <th>Credit_History</th>\n",
       "      <th>Property_Area</th>\n",
       "      <th>Loan_Status</th>\n",
       "      <th>EMI</th>\n",
       "      <th>Income_left</th>\n",
       "      <th>LoanAmount_log</th>\n",
       "      <th>ApplicantIncome_log</th>\n",
       "      <th>Total_Income_log</th>\n",
       "      <th>EMI_log</th>\n",
       "      <th>CoapplicantIncome_log</th>\n",
       "      <th>Income_Left_log</th>\n",
       "    </tr>\n",
       "  </thead>\n",
       "  <tbody>\n",
       "    <tr>\n",
       "      <th>0</th>\n",
       "      <td>1</td>\n",
       "      <td>0</td>\n",
       "      <td>0</td>\n",
       "      <td>0</td>\n",
       "      <td>0</td>\n",
       "      <td>5849</td>\n",
       "      <td>0.0</td>\n",
       "      <td>128.0</td>\n",
       "      <td>360.0</td>\n",
       "      <td>1.0</td>\n",
       "      <td>2</td>\n",
       "      <td>1</td>\n",
       "      <td>0.939219</td>\n",
       "      <td>5837.729376</td>\n",
       "      <td>4.852030</td>\n",
       "      <td>8.674026</td>\n",
       "      <td>8.674026</td>\n",
       "      <td>-0.062707</td>\n",
       "      <td>0.000000</td>\n",
       "      <td>8.672097</td>\n",
       "    </tr>\n",
       "    <tr>\n",
       "      <th>2</th>\n",
       "      <td>1</td>\n",
       "      <td>1</td>\n",
       "      <td>0</td>\n",
       "      <td>0</td>\n",
       "      <td>1</td>\n",
       "      <td>3000</td>\n",
       "      <td>0.0</td>\n",
       "      <td>66.0</td>\n",
       "      <td>360.0</td>\n",
       "      <td>1.0</td>\n",
       "      <td>2</td>\n",
       "      <td>1</td>\n",
       "      <td>0.484285</td>\n",
       "      <td>2994.188585</td>\n",
       "      <td>4.189655</td>\n",
       "      <td>8.006368</td>\n",
       "      <td>8.006368</td>\n",
       "      <td>-0.725082</td>\n",
       "      <td>0.000000</td>\n",
       "      <td>8.004429</td>\n",
       "    </tr>\n",
       "    <tr>\n",
       "      <th>3</th>\n",
       "      <td>1</td>\n",
       "      <td>1</td>\n",
       "      <td>0</td>\n",
       "      <td>1</td>\n",
       "      <td>0</td>\n",
       "      <td>2583</td>\n",
       "      <td>2358.0</td>\n",
       "      <td>120.0</td>\n",
       "      <td>360.0</td>\n",
       "      <td>1.0</td>\n",
       "      <td>2</td>\n",
       "      <td>1</td>\n",
       "      <td>0.880517</td>\n",
       "      <td>4930.433790</td>\n",
       "      <td>4.787492</td>\n",
       "      <td>7.856707</td>\n",
       "      <td>8.505323</td>\n",
       "      <td>-0.127245</td>\n",
       "      <td>7.765569</td>\n",
       "      <td>8.503182</td>\n",
       "    </tr>\n",
       "    <tr>\n",
       "      <th>4</th>\n",
       "      <td>1</td>\n",
       "      <td>0</td>\n",
       "      <td>0</td>\n",
       "      <td>0</td>\n",
       "      <td>0</td>\n",
       "      <td>6000</td>\n",
       "      <td>0.0</td>\n",
       "      <td>141.0</td>\n",
       "      <td>360.0</td>\n",
       "      <td>1.0</td>\n",
       "      <td>2</td>\n",
       "      <td>1</td>\n",
       "      <td>1.034608</td>\n",
       "      <td>5987.584703</td>\n",
       "      <td>4.948760</td>\n",
       "      <td>8.699515</td>\n",
       "      <td>8.699515</td>\n",
       "      <td>0.034023</td>\n",
       "      <td>0.000000</td>\n",
       "      <td>8.697443</td>\n",
       "    </tr>\n",
       "    <tr>\n",
       "      <th>5</th>\n",
       "      <td>1</td>\n",
       "      <td>1</td>\n",
       "      <td>2</td>\n",
       "      <td>0</td>\n",
       "      <td>1</td>\n",
       "      <td>5417</td>\n",
       "      <td>4196.0</td>\n",
       "      <td>267.0</td>\n",
       "      <td>360.0</td>\n",
       "      <td>1.0</td>\n",
       "      <td>2</td>\n",
       "      <td>1</td>\n",
       "      <td>1.959151</td>\n",
       "      <td>9589.490183</td>\n",
       "      <td>5.587249</td>\n",
       "      <td>8.597297</td>\n",
       "      <td>9.170872</td>\n",
       "      <td>0.672511</td>\n",
       "      <td>8.341887</td>\n",
       "      <td>9.168423</td>\n",
       "    </tr>\n",
       "  </tbody>\n",
       "</table>\n",
       "</div>"
      ],
      "text/plain": [
       "   Gender  Married  Dependents  Education  Self_Employed  ApplicantIncome  \\\n",
       "0       1        0           0          0              0             5849   \n",
       "2       1        1           0          0              1             3000   \n",
       "3       1        1           0          1              0             2583   \n",
       "4       1        0           0          0              0             6000   \n",
       "5       1        1           2          0              1             5417   \n",
       "\n",
       "   CoapplicantIncome  LoanAmount  Loan_Amount_Term  Credit_History  \\\n",
       "0                0.0       128.0             360.0             1.0   \n",
       "2                0.0        66.0             360.0             1.0   \n",
       "3             2358.0       120.0             360.0             1.0   \n",
       "4                0.0       141.0             360.0             1.0   \n",
       "5             4196.0       267.0             360.0             1.0   \n",
       "\n",
       "   Property_Area  Loan_Status       EMI  Income_left  LoanAmount_log  \\\n",
       "0              2            1  0.939219  5837.729376        4.852030   \n",
       "2              2            1  0.484285  2994.188585        4.189655   \n",
       "3              2            1  0.880517  4930.433790        4.787492   \n",
       "4              2            1  1.034608  5987.584703        4.948760   \n",
       "5              2            1  1.959151  9589.490183        5.587249   \n",
       "\n",
       "   ApplicantIncome_log  Total_Income_log   EMI_log  CoapplicantIncome_log  \\\n",
       "0             8.674026          8.674026 -0.062707               0.000000   \n",
       "2             8.006368          8.006368 -0.725082               0.000000   \n",
       "3             7.856707          8.505323 -0.127245               7.765569   \n",
       "4             8.699515          8.699515  0.034023               0.000000   \n",
       "5             8.597297          9.170872  0.672511               8.341887   \n",
       "\n",
       "   Income_Left_log  \n",
       "0         8.672097  \n",
       "2         8.004429  \n",
       "3         8.503182  \n",
       "4         8.697443  \n",
       "5         9.168423  "
      ]
     },
     "execution_count": 47,
     "metadata": {},
     "output_type": "execute_result"
    }
   ],
   "source": [
    "df_upsampled.head()"
   ]
  },
  {
   "cell_type": "code",
   "execution_count": 48,
   "metadata": {},
   "outputs": [
    {
     "data": {
      "text/html": [
       "<div>\n",
       "<style scoped>\n",
       "    .dataframe tbody tr th:only-of-type {\n",
       "        vertical-align: middle;\n",
       "    }\n",
       "\n",
       "    .dataframe tbody tr th {\n",
       "        vertical-align: top;\n",
       "    }\n",
       "\n",
       "    .dataframe thead th {\n",
       "        text-align: right;\n",
       "    }\n",
       "</style>\n",
       "<table border=\"1\" class=\"dataframe\">\n",
       "  <thead>\n",
       "    <tr style=\"text-align: right;\">\n",
       "      <th></th>\n",
       "      <th>Gender</th>\n",
       "      <th>Married</th>\n",
       "      <th>Dependents</th>\n",
       "      <th>Education</th>\n",
       "      <th>Self_Employed</th>\n",
       "      <th>ApplicantIncome</th>\n",
       "      <th>CoapplicantIncome</th>\n",
       "      <th>LoanAmount</th>\n",
       "      <th>Loan_Amount_Term</th>\n",
       "      <th>Credit_History</th>\n",
       "      <th>Property_Area</th>\n",
       "      <th>Loan_Status</th>\n",
       "      <th>EMI</th>\n",
       "      <th>Income_left</th>\n",
       "      <th>LoanAmount_log</th>\n",
       "      <th>ApplicantIncome_log</th>\n",
       "      <th>Total_Income_log</th>\n",
       "      <th>EMI_log</th>\n",
       "      <th>CoapplicantIncome_log</th>\n",
       "      <th>Income_Left_log</th>\n",
       "    </tr>\n",
       "  </thead>\n",
       "  <tbody>\n",
       "    <tr>\n",
       "      <th>15</th>\n",
       "      <td>1</td>\n",
       "      <td>0</td>\n",
       "      <td>0</td>\n",
       "      <td>0</td>\n",
       "      <td>0</td>\n",
       "      <td>4950</td>\n",
       "      <td>0.0</td>\n",
       "      <td>125.0</td>\n",
       "      <td>360.0</td>\n",
       "      <td>1.0</td>\n",
       "      <td>2</td>\n",
       "      <td>1</td>\n",
       "      <td>0.917206</td>\n",
       "      <td>4938.993531</td>\n",
       "      <td>4.828314</td>\n",
       "      <td>8.507143</td>\n",
       "      <td>8.507143</td>\n",
       "      <td>-0.086423</td>\n",
       "      <td>0.000000</td>\n",
       "      <td>8.504917</td>\n",
       "    </tr>\n",
       "    <tr>\n",
       "      <th>41</th>\n",
       "      <td>1</td>\n",
       "      <td>0</td>\n",
       "      <td>0</td>\n",
       "      <td>0</td>\n",
       "      <td>0</td>\n",
       "      <td>1800</td>\n",
       "      <td>1213.0</td>\n",
       "      <td>47.0</td>\n",
       "      <td>360.0</td>\n",
       "      <td>1.0</td>\n",
       "      <td>2</td>\n",
       "      <td>1</td>\n",
       "      <td>0.344869</td>\n",
       "      <td>3008.861568</td>\n",
       "      <td>3.850148</td>\n",
       "      <td>7.495542</td>\n",
       "      <td>8.010692</td>\n",
       "      <td>-1.064590</td>\n",
       "      <td>7.100852</td>\n",
       "      <td>8.009317</td>\n",
       "    </tr>\n",
       "    <tr>\n",
       "      <th>58</th>\n",
       "      <td>1</td>\n",
       "      <td>1</td>\n",
       "      <td>1</td>\n",
       "      <td>0</td>\n",
       "      <td>0</td>\n",
       "      <td>8080</td>\n",
       "      <td>2250.0</td>\n",
       "      <td>180.0</td>\n",
       "      <td>360.0</td>\n",
       "      <td>1.0</td>\n",
       "      <td>2</td>\n",
       "      <td>1</td>\n",
       "      <td>1.320776</td>\n",
       "      <td>10314.150685</td>\n",
       "      <td>5.192957</td>\n",
       "      <td>8.997147</td>\n",
       "      <td>9.242808</td>\n",
       "      <td>0.278220</td>\n",
       "      <td>7.718685</td>\n",
       "      <td>9.241272</td>\n",
       "    </tr>\n",
       "    <tr>\n",
       "      <th>526</th>\n",
       "      <td>1</td>\n",
       "      <td>1</td>\n",
       "      <td>0</td>\n",
       "      <td>0</td>\n",
       "      <td>0</td>\n",
       "      <td>3775</td>\n",
       "      <td>0.0</td>\n",
       "      <td>110.0</td>\n",
       "      <td>360.0</td>\n",
       "      <td>1.0</td>\n",
       "      <td>1</td>\n",
       "      <td>1</td>\n",
       "      <td>0.807141</td>\n",
       "      <td>3765.314308</td>\n",
       "      <td>4.700480</td>\n",
       "      <td>8.236156</td>\n",
       "      <td>8.236156</td>\n",
       "      <td>-0.214257</td>\n",
       "      <td>0.000000</td>\n",
       "      <td>8.233587</td>\n",
       "    </tr>\n",
       "    <tr>\n",
       "      <th>25</th>\n",
       "      <td>1</td>\n",
       "      <td>1</td>\n",
       "      <td>0</td>\n",
       "      <td>0</td>\n",
       "      <td>1</td>\n",
       "      <td>9560</td>\n",
       "      <td>0.0</td>\n",
       "      <td>191.0</td>\n",
       "      <td>360.0</td>\n",
       "      <td>1.0</td>\n",
       "      <td>1</td>\n",
       "      <td>1</td>\n",
       "      <td>1.401490</td>\n",
       "      <td>9543.182116</td>\n",
       "      <td>5.252273</td>\n",
       "      <td>9.165343</td>\n",
       "      <td>9.165343</td>\n",
       "      <td>0.337536</td>\n",
       "      <td>0.000000</td>\n",
       "      <td>9.163582</td>\n",
       "    </tr>\n",
       "  </tbody>\n",
       "</table>\n",
       "</div>"
      ],
      "text/plain": [
       "     Gender  Married  Dependents  Education  Self_Employed  ApplicantIncome  \\\n",
       "15        1        0           0          0              0             4950   \n",
       "41        1        0           0          0              0             1800   \n",
       "58        1        1           1          0              0             8080   \n",
       "526       1        1           0          0              0             3775   \n",
       "25        1        1           0          0              1             9560   \n",
       "\n",
       "     CoapplicantIncome  LoanAmount  Loan_Amount_Term  Credit_History  \\\n",
       "15                 0.0       125.0             360.0             1.0   \n",
       "41              1213.0        47.0             360.0             1.0   \n",
       "58              2250.0       180.0             360.0             1.0   \n",
       "526                0.0       110.0             360.0             1.0   \n",
       "25                 0.0       191.0             360.0             1.0   \n",
       "\n",
       "     Property_Area  Loan_Status       EMI   Income_left  LoanAmount_log  \\\n",
       "15               2            1  0.917206   4938.993531        4.828314   \n",
       "41               2            1  0.344869   3008.861568        3.850148   \n",
       "58               2            1  1.320776  10314.150685        5.192957   \n",
       "526              1            1  0.807141   3765.314308        4.700480   \n",
       "25               1            1  1.401490   9543.182116        5.252273   \n",
       "\n",
       "     ApplicantIncome_log  Total_Income_log   EMI_log  CoapplicantIncome_log  \\\n",
       "15              8.507143          8.507143 -0.086423               0.000000   \n",
       "41              7.495542          8.010692 -1.064590               7.100852   \n",
       "58              8.997147          9.242808  0.278220               7.718685   \n",
       "526             8.236156          8.236156 -0.214257               0.000000   \n",
       "25              9.165343          9.165343  0.337536               0.000000   \n",
       "\n",
       "     Income_Left_log  \n",
       "15          8.504917  \n",
       "41          8.009317  \n",
       "58          9.241272  \n",
       "526         8.233587  \n",
       "25          9.163582  "
      ]
     },
     "execution_count": 48,
     "metadata": {},
     "output_type": "execute_result"
    }
   ],
   "source": [
    "df_downsampled.head()"
   ]
  },
  {
   "cell_type": "markdown",
   "metadata": {},
   "source": [
    "# Modeling"
   ]
  },
  {
   "cell_type": "markdown",
   "metadata": {},
   "source": [
    "- We will pass data on by one with different state i.e.\n",
    "    - Only Scaled data\n",
    "    - Scaled + Down Sampled Data\n",
    "    - Scaled + Up Sampled Data"
   ]
  },
  {
   "cell_type": "markdown",
   "metadata": {},
   "source": [
    "# Experiment 1: With Only Scaled Data"
   ]
  },
  {
   "cell_type": "code",
   "execution_count": 49,
   "metadata": {},
   "outputs": [],
   "source": [
    "# Dropping Some Unwanted Variables and Storing data into new Variables\n",
    "\n",
    "y = new_train_data['Loan_Status']\n",
    "x = new_train_data.drop([\"Loan_Status\"], axis = 1)\n",
    "\n",
    "# Splitting The Data into Train and Test\n",
    "x_train, x_test, y_train, y_test = train_test_split(x, y, test_size = 0.2, random_state = 1)\n",
    "\n",
    "# Data Standardization\n",
    "# As our data is not much normally distributed we will choose Standardization using Standard-Scaler aiming that\n",
    "# it will reduce more skewness and contribute in accuracy gain.\n",
    "\n",
    "sc = StandardScaler()\n",
    "x_train  = sc.fit_transform(x_train)\n",
    "x_test  = sc.transform(x_test)"
   ]
  },
  {
   "cell_type": "code",
   "execution_count": 50,
   "metadata": {},
   "outputs": [
    {
     "name": "stdout",
     "output_type": "stream",
     "text": [
      "Fitting 3 folds for each of 8 candidates, totalling 24 fits\n"
     ]
    },
    {
     "name": "stderr",
     "output_type": "stream",
     "text": [
      "[Parallel(n_jobs=-1)]: Using backend LokyBackend with 4 concurrent workers.\n"
     ]
    },
    {
     "name": "stdout",
     "output_type": "stream",
     "text": [
      "Best Parameters :  {'n_neighbors': 9}\n",
      "KNeighborsClassifier:  0.8048780487804879\n",
      "              precision    recall  f1-score   support\n",
      "\n",
      "           0       0.41      0.94      0.57        17\n",
      "           1       0.99      0.78      0.87       106\n",
      "\n",
      "    accuracy                           0.80       123\n",
      "   macro avg       0.70      0.86      0.72       123\n",
      "weighted avg       0.91      0.80      0.83       123\n",
      "\n"
     ]
    },
    {
     "name": "stderr",
     "output_type": "stream",
     "text": [
      "[Parallel(n_jobs=-1)]: Done  24 out of  24 | elapsed:    4.7s finished\n"
     ]
    }
   ],
   "source": [
    "# Model - 1 ----- KNN\n",
    "grid_parameters = {'n_neighbors' : [3,5,7,9,11,13,15,17]}\n",
    "model_1_knn = GridSearchCV(KNeighborsClassifier(), grid_parameters, verbose = 1, cv = 3, n_jobs = -1)\n",
    "model_1_knn.fit(x_train, y_train)\n",
    "y_pred = model_1_knn.predict(x_test)\n",
    "\n",
    "print (\"Best Parameters : \",model_1_knn.best_params_)\n",
    "print(\"KNeighborsClassifier: \", accuracy_score(y_pred,y_test))\n",
    "\n",
    "print(classification_report(y_pred, y_test))"
   ]
  },
  {
   "cell_type": "code",
   "execution_count": 51,
   "metadata": {},
   "outputs": [
    {
     "name": "stdout",
     "output_type": "stream",
     "text": [
      "Fitting 3 folds for each of 1 candidates, totalling 3 fits\n",
      "Best Parameters :  {}\n",
      "Gaussian NB:  0.8048780487804879\n",
      "              precision    recall  f1-score   support\n",
      "\n",
      "           0       0.49      0.83      0.61        23\n",
      "           1       0.95      0.80      0.87       100\n",
      "\n",
      "    accuracy                           0.80       123\n",
      "   macro avg       0.72      0.81      0.74       123\n",
      "weighted avg       0.87      0.80      0.82       123\n",
      "\n"
     ]
    },
    {
     "name": "stderr",
     "output_type": "stream",
     "text": [
      "[Parallel(n_jobs=-1)]: Using backend LokyBackend with 4 concurrent workers.\n",
      "[Parallel(n_jobs=-1)]: Done   3 out of   3 | elapsed:    0.0s finished\n"
     ]
    }
   ],
   "source": [
    "# Model - 2 ----- Gaussian NB\n",
    "grid_parameters = {}\n",
    "model_2_nb = GridSearchCV(GaussianNB(), grid_parameters, verbose = 1, cv = 3, n_jobs = -1)\n",
    "model_2_nb.fit(x_train, y_train)\n",
    "y_pred = model_2_nb.predict(x_test)\n",
    "\n",
    "print (\"Best Parameters : \",model_2_nb.best_params_)\n",
    "print(\"Gaussian NB: \", accuracy_score(y_pred,y_test))\n",
    "\n",
    "print(classification_report(y_pred, y_test))"
   ]
  },
  {
   "cell_type": "code",
   "execution_count": 52,
   "metadata": {},
   "outputs": [
    {
     "name": "stdout",
     "output_type": "stream",
     "text": [
      "Fitting 3 folds for each of 14 candidates, totalling 42 fits\n"
     ]
    },
    {
     "name": "stderr",
     "output_type": "stream",
     "text": [
      "[Parallel(n_jobs=-1)]: Using backend LokyBackend with 4 concurrent workers.\n"
     ]
    },
    {
     "name": "stdout",
     "output_type": "stream",
     "text": [
      "Best Parameters :  {'C': 10, 'penalty': 'l2'}\n",
      "Logistic Regression:  0.7967479674796748\n",
      "              precision    recall  f1-score   support\n",
      "\n",
      "           0       0.41      0.89      0.56        18\n",
      "           1       0.98      0.78      0.87       105\n",
      "\n",
      "    accuracy                           0.80       123\n",
      "   macro avg       0.69      0.83      0.71       123\n",
      "weighted avg       0.89      0.80      0.82       123\n",
      "\n"
     ]
    },
    {
     "name": "stderr",
     "output_type": "stream",
     "text": [
      "[Parallel(n_jobs=-1)]: Done  42 out of  42 | elapsed:    0.3s finished\n"
     ]
    }
   ],
   "source": [
    "# Model - 3 ----- Logistic Regression\n",
    "grid_parameters = {'penalty': ['l1','l2'], 'C': [0.001,0.01,0.1,1,10,100,1000]}\n",
    "model_3_lr = GridSearchCV(LogisticRegression(fit_intercept = True,), grid_parameters, verbose = 1, cv = 3, n_jobs = -1)\n",
    "model_3_lr.fit(x_train, y_train)\n",
    "y_pred = model_3_lr.predict(x_test)\n",
    "\n",
    "print (\"Best Parameters : \",model_3_lr.best_params_)\n",
    "print(\"Logistic Regression: \", accuracy_score(y_pred,y_test))\n",
    "\n",
    "print(classification_report(y_pred, y_test))"
   ]
  },
  {
   "cell_type": "code",
   "execution_count": 53,
   "metadata": {},
   "outputs": [
    {
     "name": "stderr",
     "output_type": "stream",
     "text": [
      "[Parallel(n_jobs=-1)]: Using backend LokyBackend with 4 concurrent workers.\n"
     ]
    },
    {
     "name": "stdout",
     "output_type": "stream",
     "text": [
      "Fitting 3 folds for each of 35 candidates, totalling 105 fits\n",
      "Best Parameters :  {'C': 10, 'gamma': 0.01}\n",
      "Linear SVM:  0.7967479674796748\n",
      "              precision    recall  f1-score   support\n",
      "\n",
      "           0       0.44      0.85      0.58        20\n",
      "           1       0.96      0.79      0.87       103\n",
      "\n",
      "    accuracy                           0.80       123\n",
      "   macro avg       0.70      0.82      0.72       123\n",
      "weighted avg       0.88      0.80      0.82       123\n",
      "\n"
     ]
    },
    {
     "name": "stderr",
     "output_type": "stream",
     "text": [
      "[Parallel(n_jobs=-1)]: Done 105 out of 105 | elapsed:    1.8s finished\n"
     ]
    }
   ],
   "source": [
    "# Model - 4 ----- SVM\n",
    "grid_parameters = {'C': [0.001,0.01,0.1,1,10,100,1000], 'gamma': [0.001, 0.01, 1, 10, 100]}\n",
    "model_4_svm = GridSearchCV(SVC(probability = True, class_weight=\"balanced\"), grid_parameters, verbose = 1, cv = 3, n_jobs = -1)\n",
    "model_4_svm.fit(x_train, y_train)\n",
    "y_pred = model_4_svm.predict(x_test)\n",
    "\n",
    "print (\"Best Parameters : \",model_4_svm.best_params_)\n",
    "print(\"Linear SVM: \", accuracy_score(y_pred,y_test))\n",
    "\n",
    "print(classification_report(y_pred, y_test))"
   ]
  },
  {
   "cell_type": "code",
   "execution_count": 54,
   "metadata": {},
   "outputs": [
    {
     "name": "stderr",
     "output_type": "stream",
     "text": [
      "[Parallel(n_jobs=-1)]: Using backend LokyBackend with 4 concurrent workers.\n"
     ]
    },
    {
     "name": "stdout",
     "output_type": "stream",
     "text": [
      "Fitting 3 folds for each of 15 candidates, totalling 45 fits\n"
     ]
    },
    {
     "name": "stderr",
     "output_type": "stream",
     "text": [
      "[Parallel(n_jobs=-1)]: Done  45 out of  45 | elapsed:   11.3s finished\n"
     ]
    },
    {
     "name": "stdout",
     "output_type": "stream",
     "text": [
      "Best Parameters :  {'max_depth': 5, 'n_estimators': 150}\n",
      "Random Forest:  0.7886178861788617\n",
      "              precision    recall  f1-score   support\n",
      "\n",
      "           0       0.41      0.84      0.55        19\n",
      "           1       0.96      0.78      0.86       104\n",
      "\n",
      "    accuracy                           0.79       123\n",
      "   macro avg       0.69      0.81      0.71       123\n",
      "weighted avg       0.88      0.79      0.81       123\n",
      "\n"
     ]
    }
   ],
   "source": [
    "# Model - 5 ----- Random Forest\n",
    "grid_parameters = {'max_depth' : [5, 7, 10], 'n_estimators' : [100,150,200,250,500]}\n",
    "model_5_rf = GridSearchCV(RandomForestClassifier(), grid_parameters, verbose = 1, cv = 3, n_jobs = -1)\n",
    "model_5_rf.fit(x_train, y_train)\n",
    "y_pred = model_5_rf.predict(x_test)\n",
    "\n",
    "print (\"Best Parameters : \",model_5_rf.best_params_)\n",
    "print(\"Random Forest: \", accuracy_score(y_pred,y_test))\n",
    "\n",
    "print(classification_report(y_pred, y_test))"
   ]
  },
  {
   "cell_type": "code",
   "execution_count": 55,
   "metadata": {},
   "outputs": [
    {
     "name": "stdout",
     "output_type": "stream",
     "text": [
      "Fitting 3 folds for each of 100 candidates, totalling 300 fits\n"
     ]
    },
    {
     "name": "stderr",
     "output_type": "stream",
     "text": [
      "[Parallel(n_jobs=-1)]: Using backend LokyBackend with 4 concurrent workers.\n",
      "[Parallel(n_jobs=-1)]: Done  73 tasks      | elapsed:    8.3s\n",
      "[Parallel(n_jobs=-1)]: Done 224 tasks      | elapsed:   24.5s\n",
      "[Parallel(n_jobs=-1)]: Done 293 out of 300 | elapsed:   26.8s remaining:    0.5s\n",
      "[Parallel(n_jobs=-1)]: Done 300 out of 300 | elapsed:   26.9s finished\n"
     ]
    },
    {
     "name": "stdout",
     "output_type": "stream",
     "text": [
      "Best Parameters :  {'learning_rate': 0.01, 'max_depth': 7, 'n_estimators': 200}\n",
      "Random Forest:  0.8130081300813008\n",
      "              precision    recall  f1-score   support\n",
      "\n",
      "           0       0.49      0.86      0.62        22\n",
      "           1       0.96      0.80      0.88       101\n",
      "\n",
      "    accuracy                           0.81       123\n",
      "   macro avg       0.73      0.83      0.75       123\n",
      "weighted avg       0.88      0.81      0.83       123\n",
      "\n"
     ]
    }
   ],
   "source": [
    "# Model - 6 ----- XGBClassifier\n",
    "grid_parameters = {'max_depth' : [3, 5, 7, 10], 'learning_rate' : [0.001, 0.01, 0.1, 1, 10], \n",
    "                   'n_estimators' : [100,150,200,250,500]}\n",
    "model_6_xgb = GridSearchCV(XGBClassifier(), grid_parameters, verbose = 1, cv = 3, n_jobs = -1)\n",
    "model_6_xgb.fit(x_train, y_train)\n",
    "y_pred = model_6_xgb.predict(x_test)\n",
    "\n",
    "print (\"Best Parameters : \",model_6_xgb.best_params_)\n",
    "print(\"Random Forest: \", accuracy_score(y_pred,y_test))\n",
    "\n",
    "print(classification_report(y_pred, y_test))"
   ]
  },
  {
   "cell_type": "markdown",
   "metadata": {},
   "source": [
    "# Experiment 2: with Sclaed + Down Sampled Data"
   ]
  },
  {
   "cell_type": "code",
   "execution_count": 56,
   "metadata": {},
   "outputs": [],
   "source": [
    "# Dropping Some Unwanted Variables and Storing data into new Variables\n",
    "\n",
    "y = df_downsampled['Loan_Status']\n",
    "x = df_downsampled.drop([\"Loan_Status\"], axis = 1)\n",
    "\n",
    "# Splitting The Data into Train and Test\n",
    "x_train, x_test, y_train, y_test = train_test_split(x, y, test_size = 0.2, random_state = 1)\n",
    "\n",
    "# Data Standardization\n",
    "# As our data is not much normally distributed we will choose Standardization using Standard-Scaler aiming that\n",
    "# it will reduce more skewness and contribute in accuracy gain.\n",
    "\n",
    "sc = StandardScaler()\n",
    "x_train  = sc.fit_transform(x_train)\n",
    "x_test  = sc.transform(x_test)"
   ]
  },
  {
   "cell_type": "code",
   "execution_count": 57,
   "metadata": {},
   "outputs": [
    {
     "name": "stdout",
     "output_type": "stream",
     "text": [
      "Fitting 3 folds for each of 8 candidates, totalling 24 fits\n",
      "Best Parameters :  {'n_neighbors': 13}\n",
      "KNeighborsClassifier:  0.6623376623376623\n",
      "              precision    recall  f1-score   support\n",
      "\n",
      "           0       0.47      0.75      0.58        24\n",
      "           1       0.85      0.62      0.72        53\n",
      "\n",
      "    accuracy                           0.66        77\n",
      "   macro avg       0.66      0.69      0.65        77\n",
      "weighted avg       0.73      0.66      0.67        77\n",
      "\n"
     ]
    },
    {
     "name": "stderr",
     "output_type": "stream",
     "text": [
      "[Parallel(n_jobs=-1)]: Using backend LokyBackend with 4 concurrent workers.\n",
      "[Parallel(n_jobs=-1)]: Done  24 out of  24 | elapsed:    0.0s finished\n"
     ]
    }
   ],
   "source": [
    "# Model - 7 ----- KNN\n",
    "grid_parameters = {'n_neighbors' : [3,5,7,9,11,13,15,17]}\n",
    "model_7_knn = GridSearchCV(KNeighborsClassifier(), grid_parameters, verbose = 1, cv = 3, n_jobs = -1)\n",
    "model_7_knn.fit(x_train, y_train)\n",
    "y_pred = model_7_knn.predict(x_test)\n",
    "\n",
    "print (\"Best Parameters : \",model_7_knn.best_params_)\n",
    "print(\"KNeighborsClassifier: \", accuracy_score(y_pred,y_test))\n",
    "\n",
    "print(classification_report(y_pred, y_test))"
   ]
  },
  {
   "cell_type": "code",
   "execution_count": 58,
   "metadata": {},
   "outputs": [
    {
     "name": "stdout",
     "output_type": "stream",
     "text": [
      "Fitting 3 folds for each of 1 candidates, totalling 3 fits\n",
      "Best Parameters :  {}\n",
      "Gaussian NB:  0.6753246753246753\n",
      "              precision    recall  f1-score   support\n",
      "\n",
      "           0       0.50      0.76      0.60        25\n",
      "           1       0.85      0.63      0.73        52\n",
      "\n",
      "    accuracy                           0.68        77\n",
      "   macro avg       0.67      0.70      0.66        77\n",
      "weighted avg       0.73      0.68      0.69        77\n",
      "\n"
     ]
    },
    {
     "name": "stderr",
     "output_type": "stream",
     "text": [
      "[Parallel(n_jobs=-1)]: Using backend LokyBackend with 4 concurrent workers.\n",
      "[Parallel(n_jobs=-1)]: Done   3 out of   3 | elapsed:    0.0s finished\n"
     ]
    }
   ],
   "source": [
    "# Model - 8 ----- Gaussian NB\n",
    "grid_parameters = {}\n",
    "model_8_nb = GridSearchCV(GaussianNB(), grid_parameters, verbose = 1, cv = 3, n_jobs = -1)\n",
    "model_8_nb.fit(x_train, y_train)\n",
    "y_pred = model_8_nb.predict(x_test)\n",
    "\n",
    "print (\"Best Parameters : \",model_8_nb.best_params_)\n",
    "print(\"Gaussian NB: \", accuracy_score(y_pred,y_test))\n",
    "\n",
    "print(classification_report(y_pred, y_test))"
   ]
  },
  {
   "cell_type": "code",
   "execution_count": 59,
   "metadata": {},
   "outputs": [
    {
     "name": "stderr",
     "output_type": "stream",
     "text": [
      "[Parallel(n_jobs=-1)]: Using backend LokyBackend with 4 concurrent workers.\n"
     ]
    },
    {
     "name": "stdout",
     "output_type": "stream",
     "text": [
      "Fitting 3 folds for each of 14 candidates, totalling 42 fits\n",
      "Best Parameters :  {'C': 0.1, 'penalty': 'l2'}\n",
      "Logistic Regression:  0.6883116883116883\n",
      "              precision    recall  f1-score   support\n",
      "\n",
      "           0       0.55      0.75      0.64        28\n",
      "           1       0.82      0.65      0.73        49\n",
      "\n",
      "    accuracy                           0.69        77\n",
      "   macro avg       0.69      0.70      0.68        77\n",
      "weighted avg       0.72      0.69      0.69        77\n",
      "\n"
     ]
    },
    {
     "name": "stderr",
     "output_type": "stream",
     "text": [
      "[Parallel(n_jobs=-1)]: Done  42 out of  42 | elapsed:    0.2s finished\n"
     ]
    }
   ],
   "source": [
    "# Model - 9 ----- Logistic Regression\n",
    "grid_parameters = {'penalty': ['l1','l2'], 'C': [0.001,0.01,0.1,1,10,100,1000]}\n",
    "model_9_lr = GridSearchCV(LogisticRegression(fit_intercept = True,), grid_parameters, verbose = 1, cv = 3, n_jobs = -1)\n",
    "model_9_lr.fit(x_train, y_train)\n",
    "y_pred = model_9_lr.predict(x_test)\n",
    "\n",
    "print (\"Best Parameters : \",model_9_lr.best_params_)\n",
    "print(\"Logistic Regression: \", accuracy_score(y_pred,y_test))\n",
    "\n",
    "print(classification_report(y_pred, y_test))"
   ]
  },
  {
   "cell_type": "code",
   "execution_count": 60,
   "metadata": {},
   "outputs": [
    {
     "name": "stderr",
     "output_type": "stream",
     "text": [
      "[Parallel(n_jobs=-1)]: Using backend LokyBackend with 4 concurrent workers.\n"
     ]
    },
    {
     "name": "stdout",
     "output_type": "stream",
     "text": [
      "Fitting 3 folds for each of 35 candidates, totalling 105 fits\n",
      "Best Parameters :  {'C': 10, 'gamma': 0.01}\n",
      "Linear SVM:  0.6883116883116883\n",
      "              precision    recall  f1-score   support\n",
      "\n",
      "           0       0.45      0.85      0.59        20\n",
      "           1       0.92      0.63      0.75        57\n",
      "\n",
      "    accuracy                           0.69        77\n",
      "   macro avg       0.69      0.74      0.67        77\n",
      "weighted avg       0.80      0.69      0.71        77\n",
      "\n"
     ]
    },
    {
     "name": "stderr",
     "output_type": "stream",
     "text": [
      "[Parallel(n_jobs=-1)]: Done 105 out of 105 | elapsed:    0.6s finished\n"
     ]
    }
   ],
   "source": [
    "# Model - 10 ----- SVM\n",
    "grid_parameters = {'C': [0.001,0.01,0.1,1,10,100,1000], 'gamma': [0.001, 0.01, 1, 10, 100]}\n",
    "model_10_svm = GridSearchCV(SVC(probability = True, class_weight=\"balanced\"), grid_parameters, verbose = 1, cv = 3, n_jobs = -1)\n",
    "model_10_svm.fit(x_train, y_train)\n",
    "y_pred = model_10_svm.predict(x_test)\n",
    "\n",
    "print (\"Best Parameters : \",model_10_svm.best_params_)\n",
    "print(\"Linear SVM: \", accuracy_score(y_pred,y_test))\n",
    "\n",
    "print(classification_report(y_pred, y_test))"
   ]
  },
  {
   "cell_type": "code",
   "execution_count": 61,
   "metadata": {},
   "outputs": [
    {
     "name": "stderr",
     "output_type": "stream",
     "text": [
      "[Parallel(n_jobs=-1)]: Using backend LokyBackend with 4 concurrent workers.\n"
     ]
    },
    {
     "name": "stdout",
     "output_type": "stream",
     "text": [
      "Fitting 3 folds for each of 15 candidates, totalling 45 fits\n"
     ]
    },
    {
     "name": "stderr",
     "output_type": "stream",
     "text": [
      "[Parallel(n_jobs=-1)]: Done  45 out of  45 | elapsed:    9.5s finished\n"
     ]
    },
    {
     "name": "stdout",
     "output_type": "stream",
     "text": [
      "Best Parameters :  {'max_depth': 5, 'n_estimators': 200}\n",
      "Random Forest:  0.6753246753246753\n",
      "              precision    recall  f1-score   support\n",
      "\n",
      "           0       0.50      0.76      0.60        25\n",
      "           1       0.85      0.63      0.73        52\n",
      "\n",
      "    accuracy                           0.68        77\n",
      "   macro avg       0.67      0.70      0.66        77\n",
      "weighted avg       0.73      0.68      0.69        77\n",
      "\n"
     ]
    }
   ],
   "source": [
    "# Model - 11 ----- Random Forest\n",
    "grid_parameters = {'max_depth' : [5, 7, 10], 'n_estimators' : [100,150,200,250,500]}\n",
    "model_11_rf = GridSearchCV(RandomForestClassifier(), grid_parameters, verbose = 1, cv = 3, n_jobs = -1)\n",
    "model_11_rf.fit(x_train, y_train)\n",
    "y_pred = model_11_rf.predict(x_test)\n",
    "\n",
    "print (\"Best Parameters : \",model_11_rf.best_params_)\n",
    "print(\"Random Forest: \", accuracy_score(y_pred,y_test))\n",
    "\n",
    "print(classification_report(y_pred, y_test))"
   ]
  },
  {
   "cell_type": "code",
   "execution_count": 62,
   "metadata": {},
   "outputs": [
    {
     "name": "stdout",
     "output_type": "stream",
     "text": [
      "Fitting 3 folds for each of 100 candidates, totalling 300 fits\n"
     ]
    },
    {
     "name": "stderr",
     "output_type": "stream",
     "text": [
      "[Parallel(n_jobs=-1)]: Using backend LokyBackend with 4 concurrent workers.\n",
      "[Parallel(n_jobs=-1)]: Done  73 tasks      | elapsed:    7.7s\n",
      "[Parallel(n_jobs=-1)]: Done 224 tasks      | elapsed:   22.5s\n",
      "[Parallel(n_jobs=-1)]: Done 293 out of 300 | elapsed:   25.0s remaining:    0.5s\n",
      "[Parallel(n_jobs=-1)]: Done 300 out of 300 | elapsed:   25.1s finished\n"
     ]
    },
    {
     "name": "stdout",
     "output_type": "stream",
     "text": [
      "Best Parameters :  {'learning_rate': 0.01, 'max_depth': 7, 'n_estimators': 500}\n",
      "Random Forest:  0.7012987012987013\n",
      "              precision    recall  f1-score   support\n",
      "\n",
      "           0       0.61      0.74      0.67        31\n",
      "           1       0.79      0.67      0.73        46\n",
      "\n",
      "    accuracy                           0.70        77\n",
      "   macro avg       0.70      0.71      0.70        77\n",
      "weighted avg       0.72      0.70      0.70        77\n",
      "\n"
     ]
    }
   ],
   "source": [
    "# Model - 12 ----- XGBClassifier\n",
    "grid_parameters = {'max_depth' : [3, 5, 7, 10], 'learning_rate' : [0.001, 0.01, 0.1, 1, 10], \n",
    "                   'n_estimators' : [100,150,200,250,500]}\n",
    "model_12_xgb = GridSearchCV(XGBClassifier(), grid_parameters, verbose = 1, cv = 3, n_jobs = -1)\n",
    "model_12_xgb.fit(x_train, y_train)\n",
    "y_pred = model_12_xgb.predict(x_test)\n",
    "\n",
    "print (\"Best Parameters : \",model_12_xgb.best_params_)\n",
    "print(\"Random Forest: \", accuracy_score(y_pred,y_test))\n",
    "\n",
    "print(classification_report(y_pred, y_test))"
   ]
  },
  {
   "cell_type": "markdown",
   "metadata": {},
   "source": [
    "# Experiment 3: With Sclaed + Up Sampled Data"
   ]
  },
  {
   "cell_type": "code",
   "execution_count": 63,
   "metadata": {},
   "outputs": [],
   "source": [
    "# Dropping Some Unwanted Variables and Storing data into new Variables\n",
    "\n",
    "y = df_upsampled['Loan_Status']\n",
    "x = df_upsampled.drop([\"Loan_Status\"], axis = 1)\n",
    "\n",
    "# Splitting The Data into Train and Test\n",
    "x_train, x_test, y_train, y_test = train_test_split(x, y, test_size = 0.2, random_state = 1)\n",
    "\n",
    "# Data Standardization\n",
    "# As our data is not much normally distributed we will choose Standardization using Standard-Scaler aiming that\n",
    "# it will reduce more skewness and contribute in accuracy gain.\n",
    "\n",
    "sc = StandardScaler()\n",
    "x_train  = sc.fit_transform(x_train)\n",
    "x_test  = sc.transform(x_test)"
   ]
  },
  {
   "cell_type": "code",
   "execution_count": 64,
   "metadata": {},
   "outputs": [
    {
     "name": "stdout",
     "output_type": "stream",
     "text": [
      "Fitting 3 folds for each of 8 candidates, totalling 24 fits\n"
     ]
    },
    {
     "name": "stderr",
     "output_type": "stream",
     "text": [
      "[Parallel(n_jobs=-1)]: Using backend LokyBackend with 4 concurrent workers.\n"
     ]
    },
    {
     "name": "stdout",
     "output_type": "stream",
     "text": [
      "Best Parameters :  {'n_neighbors': 3}\n",
      "KNeighborsClassifier:  0.8106508875739645\n",
      "              precision    recall  f1-score   support\n",
      "\n",
      "           0       0.77      0.86      0.81        81\n",
      "           1       0.86      0.76      0.81        88\n",
      "\n",
      "    accuracy                           0.81       169\n",
      "   macro avg       0.81      0.81      0.81       169\n",
      "weighted avg       0.82      0.81      0.81       169\n",
      "\n"
     ]
    },
    {
     "name": "stderr",
     "output_type": "stream",
     "text": [
      "[Parallel(n_jobs=-1)]: Done  24 out of  24 | elapsed:    0.2s finished\n"
     ]
    }
   ],
   "source": [
    "# Model - 13 ----- KNN\n",
    "grid_parameters = {'n_neighbors' : [3,5,7,9,11,13,15,17]}\n",
    "model_13_knn = GridSearchCV(KNeighborsClassifier(), grid_parameters, verbose = 1, cv = 3, n_jobs = -1)\n",
    "model_13_knn.fit(x_train, y_train)\n",
    "y_pred = model_13_knn.predict(x_test)\n",
    "\n",
    "print (\"Best Parameters : \",model_13_knn.best_params_)\n",
    "print(\"KNeighborsClassifier: \", accuracy_score(y_pred,y_test))\n",
    "\n",
    "print(classification_report(y_pred, y_test))"
   ]
  },
  {
   "cell_type": "code",
   "execution_count": 65,
   "metadata": {},
   "outputs": [
    {
     "name": "stdout",
     "output_type": "stream",
     "text": [
      "Fitting 3 folds for each of 1 candidates, totalling 3 fits\n",
      "Best Parameters :  {}\n",
      "Gaussian NB:  0.6627218934911243\n",
      "              precision    recall  f1-score   support\n",
      "\n",
      "           0       0.44      0.87      0.58        46\n",
      "           1       0.92      0.59      0.72       123\n",
      "\n",
      "    accuracy                           0.66       169\n",
      "   macro avg       0.68      0.73      0.65       169\n",
      "weighted avg       0.79      0.66      0.68       169\n",
      "\n"
     ]
    },
    {
     "name": "stderr",
     "output_type": "stream",
     "text": [
      "[Parallel(n_jobs=-1)]: Using backend LokyBackend with 4 concurrent workers.\n",
      "[Parallel(n_jobs=-1)]: Done   3 out of   3 | elapsed:    0.0s finished\n"
     ]
    }
   ],
   "source": [
    "# Model - 14 ----- Gaussian NB\n",
    "grid_parameters = {}\n",
    "model_14_nb = GridSearchCV(GaussianNB(), grid_parameters, verbose = 1, cv = 3, n_jobs = -1)\n",
    "model_14_nb.fit(x_train, y_train)\n",
    "y_pred = model_14_nb.predict(x_test)\n",
    "\n",
    "print (\"Best Parameters : \",model_14_nb.best_params_)\n",
    "print(\"Gaussian NB: \", accuracy_score(y_pred,y_test))\n",
    "\n",
    "print(classification_report(y_pred, y_test))"
   ]
  },
  {
   "cell_type": "code",
   "execution_count": 66,
   "metadata": {},
   "outputs": [
    {
     "name": "stderr",
     "output_type": "stream",
     "text": [
      "[Parallel(n_jobs=-1)]: Using backend LokyBackend with 4 concurrent workers.\n"
     ]
    },
    {
     "name": "stdout",
     "output_type": "stream",
     "text": [
      "Fitting 3 folds for each of 14 candidates, totalling 42 fits\n",
      "Best Parameters :  {'C': 0.001, 'penalty': 'l2'}\n",
      "Logistic Regression:  0.6686390532544378\n",
      "              precision    recall  f1-score   support\n",
      "\n",
      "           0       0.44      0.89      0.59        45\n",
      "           1       0.94      0.59      0.72       124\n",
      "\n",
      "    accuracy                           0.67       169\n",
      "   macro avg       0.69      0.74      0.66       169\n",
      "weighted avg       0.80      0.67      0.69       169\n",
      "\n"
     ]
    },
    {
     "name": "stderr",
     "output_type": "stream",
     "text": [
      "[Parallel(n_jobs=-1)]: Done  42 out of  42 | elapsed:    0.2s finished\n"
     ]
    }
   ],
   "source": [
    "# Model - 15 ----- Logistic Regression\n",
    "grid_parameters = {'penalty': ['l1','l2'], 'C': [0.001,0.01,0.1,1,10,100,1000]}\n",
    "model_15_lr = GridSearchCV(LogisticRegression(fit_intercept = True,), grid_parameters, verbose = 1, cv = 3, n_jobs = -1)\n",
    "model_15_lr.fit(x_train, y_train)\n",
    "y_pred = model_15_lr.predict(x_test)\n",
    "\n",
    "print (\"Best Parameters : \",model_15_lr.best_params_)\n",
    "print(\"Logistic Regression: \", accuracy_score(y_pred,y_test))\n",
    "\n",
    "print(classification_report(y_pred, y_test))"
   ]
  },
  {
   "cell_type": "code",
   "execution_count": 67,
   "metadata": {},
   "outputs": [
    {
     "name": "stderr",
     "output_type": "stream",
     "text": [
      "[Parallel(n_jobs=-1)]: Using backend LokyBackend with 4 concurrent workers.\n"
     ]
    },
    {
     "name": "stdout",
     "output_type": "stream",
     "text": [
      "Fitting 3 folds for each of 35 candidates, totalling 105 fits\n"
     ]
    },
    {
     "name": "stderr",
     "output_type": "stream",
     "text": [
      "[Parallel(n_jobs=-1)]: Done  76 tasks      | elapsed:    2.1s\n",
      "[Parallel(n_jobs=-1)]: Done  98 out of 105 | elapsed:    3.0s remaining:    0.1s\n",
      "[Parallel(n_jobs=-1)]: Done 105 out of 105 | elapsed:    3.5s finished\n"
     ]
    },
    {
     "name": "stdout",
     "output_type": "stream",
     "text": [
      "Best Parameters :  {'C': 1, 'gamma': 100}\n",
      "Linear SVM:  0.893491124260355\n",
      "              precision    recall  f1-score   support\n",
      "\n",
      "           0       0.80      1.00      0.89        73\n",
      "           1       1.00      0.81      0.90        96\n",
      "\n",
      "    accuracy                           0.89       169\n",
      "   macro avg       0.90      0.91      0.89       169\n",
      "weighted avg       0.91      0.89      0.89       169\n",
      "\n"
     ]
    }
   ],
   "source": [
    "# Model - 16 ----- SVM\n",
    "grid_parameters = {'C': [0.001,0.01,0.1,1,10,100,1000], 'gamma': [0.001, 0.01, 1, 10, 100]}\n",
    "model_16_svm = GridSearchCV(SVC(probability = True, class_weight=\"balanced\"), grid_parameters, verbose = 1, cv = 3, n_jobs = -1)\n",
    "model_16_svm.fit(x_train, y_train)\n",
    "y_pred = model_16_svm.predict(x_test)\n",
    "\n",
    "print (\"Best Parameters : \",model_16_svm.best_params_)\n",
    "print(\"Linear SVM: \", accuracy_score(y_pred,y_test))\n",
    "\n",
    "print(classification_report(y_pred, y_test))"
   ]
  },
  {
   "cell_type": "code",
   "execution_count": 68,
   "metadata": {},
   "outputs": [
    {
     "name": "stdout",
     "output_type": "stream",
     "text": [
      "Fitting 3 folds for each of 15 candidates, totalling 45 fits\n"
     ]
    },
    {
     "name": "stderr",
     "output_type": "stream",
     "text": [
      "[Parallel(n_jobs=-1)]: Using backend LokyBackend with 4 concurrent workers.\n",
      "[Parallel(n_jobs=-1)]: Done  45 out of  45 | elapsed:   12.2s finished\n"
     ]
    },
    {
     "name": "stdout",
     "output_type": "stream",
     "text": [
      "Best Parameters :  {'max_depth': 10, 'n_estimators': 200}\n",
      "Random Forest:  0.863905325443787\n",
      "              precision    recall  f1-score   support\n",
      "\n",
      "           0       0.81      0.93      0.87        80\n",
      "           1       0.92      0.81      0.86        89\n",
      "\n",
      "    accuracy                           0.86       169\n",
      "   macro avg       0.87      0.87      0.86       169\n",
      "weighted avg       0.87      0.86      0.86       169\n",
      "\n"
     ]
    }
   ],
   "source": [
    "# Model - 17 ----- Random Forest\n",
    "grid_parameters = {'max_depth' : [5, 7, 10], 'n_estimators' : [100,150,200,250,500]}\n",
    "model_17_rf = GridSearchCV(RandomForestClassifier(), grid_parameters, verbose = 1, cv = 3, n_jobs = -1)\n",
    "model_17_rf.fit(x_train, y_train)\n",
    "y_pred = model_17_rf.predict(x_test)\n",
    "\n",
    "print (\"Best Parameters : \",model_17_rf.best_params_)\n",
    "print(\"Random Forest: \", accuracy_score(y_pred,y_test))\n",
    "\n",
    "print(classification_report(y_pred, y_test))"
   ]
  },
  {
   "cell_type": "code",
   "execution_count": 69,
   "metadata": {},
   "outputs": [
    {
     "name": "stdout",
     "output_type": "stream",
     "text": [
      "Fitting 3 folds for each of 100 candidates, totalling 300 fits\n"
     ]
    },
    {
     "name": "stderr",
     "output_type": "stream",
     "text": [
      "[Parallel(n_jobs=-1)]: Using backend LokyBackend with 4 concurrent workers.\n",
      "[Parallel(n_jobs=-1)]: Done  62 tasks      | elapsed:   14.5s\n",
      "[Parallel(n_jobs=-1)]: Done 212 tasks      | elapsed:   34.3s\n",
      "[Parallel(n_jobs=-1)]: Done 300 out of 300 | elapsed:   39.2s finished\n"
     ]
    },
    {
     "name": "stdout",
     "output_type": "stream",
     "text": [
      "Best Parameters :  {'learning_rate': 0.1, 'max_depth': 7, 'n_estimators': 100}\n",
      "XGB Classifier:  0.8875739644970414\n",
      "              precision    recall  f1-score   support\n",
      "\n",
      "           0       0.93      0.87      0.90        98\n",
      "           1       0.83      0.92      0.87        71\n",
      "\n",
      "    accuracy                           0.89       169\n",
      "   macro avg       0.88      0.89      0.89       169\n",
      "weighted avg       0.89      0.89      0.89       169\n",
      "\n"
     ]
    }
   ],
   "source": [
    "# Model - 18 ----- XGBClassifier\n",
    "grid_parameters = {'max_depth' : [3, 5, 7, 10], 'learning_rate' : [0.001, 0.01, 0.1, 1, 10], \n",
    "                   'n_estimators' : [100,150,200,250,500]}\n",
    "model_18_xgb = GridSearchCV(XGBClassifier(objective = 'binary:hinge'), grid_parameters, verbose = 1, cv = 3, n_jobs = -1)\n",
    "model_18_xgb.fit(x_train, y_train)\n",
    "y_pred = model_18_xgb.predict(x_test)\n",
    "\n",
    "print (\"Best Parameters : \",model_18_xgb.best_params_)\n",
    "print(\"XGB Classifier: \", accuracy_score(y_pred,y_test))\n",
    "\n",
    "print(classification_report(y_pred, y_test))"
   ]
  },
  {
   "cell_type": "markdown",
   "metadata": {},
   "source": [
    "# Model Comparisons"
   ]
  },
  {
   "cell_type": "markdown",
   "metadata": {},
   "source": [
    "### Model Comparison With Only Scaled Data"
   ]
  },
  {
   "cell_type": "code",
   "execution_count": 70,
   "metadata": {},
   "outputs": [
    {
     "name": "stdout",
     "output_type": "stream",
     "text": [
      "Accuracy by Using hypertuned KNN                       : 80.48%\n",
      "Accuracy by Using hypertuned Gaussian NB               : 80.48%\n",
      "Accuracy by Using hypertuned Logistic Regression       : 79.67%\n",
      "Accuracy by Using hypertuned SVM                       : 79.67%\n",
      "Accuracy by Using hypertuned Random Forest             : 78.86%\n",
      "Accuracy by Using hypertuned XGB Classifier (Logistic) : 81.30%\n"
     ]
    }
   ],
   "source": [
    "print('Accuracy by Using hypertuned KNN                       : 80.48%')\n",
    "print('Accuracy by Using hypertuned Gaussian NB               : 80.48%')\n",
    "print('Accuracy by Using hypertuned Logistic Regression       : 79.67%')\n",
    "print('Accuracy by Using hypertuned SVM                       : 79.67%')\n",
    "print('Accuracy by Using hypertuned Random Forest             : 78.86%')\n",
    "print('Accuracy by Using hypertuned XGB Classifier (Logistic) : 81.30%')"
   ]
  },
  {
   "cell_type": "markdown",
   "metadata": {},
   "source": [
    "### Model Comparison With Sclaed + Down Sampled Data"
   ]
  },
  {
   "cell_type": "code",
   "execution_count": 71,
   "metadata": {},
   "outputs": [
    {
     "name": "stdout",
     "output_type": "stream",
     "text": [
      "Accuracy by Using hypertuned KNN                       : 66.23%\n",
      "Accuracy by Using hypertuned Gaussian NB               : 67.53%\n",
      "Accuracy by Using hypertuned Logistic Regression       : 68.83%\n",
      "Accuracy by Using hypertuned SVM                       : 68.83%\n",
      "Accuracy by Using hypertuned Random Forest             : 66.23%\n",
      "Accuracy by Using hypertuned XGB Classifier (Logistic) : 70.12%\n"
     ]
    }
   ],
   "source": [
    "print('Accuracy by Using hypertuned KNN                       : 66.23%')\n",
    "print('Accuracy by Using hypertuned Gaussian NB               : 67.53%')\n",
    "print('Accuracy by Using hypertuned Logistic Regression       : 68.83%')\n",
    "print('Accuracy by Using hypertuned SVM                       : 68.83%')\n",
    "print('Accuracy by Using hypertuned Random Forest             : 66.23%')\n",
    "print('Accuracy by Using hypertuned XGB Classifier (Logistic) : 70.12%')"
   ]
  },
  {
   "cell_type": "markdown",
   "metadata": {},
   "source": [
    "### Model Comparison With Sclaed + Up Sampled Data"
   ]
  },
  {
   "cell_type": "code",
   "execution_count": 72,
   "metadata": {},
   "outputs": [
    {
     "name": "stdout",
     "output_type": "stream",
     "text": [
      "Accuracy by Using hypertuned KNN                       : 81.06%\n",
      "Accuracy by Using hypertuned Gaussian NB               : 66.27%\n",
      "Accuracy by Using hypertuned Logistic Regression       : 66.86%\n",
      "Accuracy by Using hypertuned SVM                       : 89.34%\n",
      "Accuracy by Using hypertuned Random Forest             : 84.61%\n",
      "Accuracy by Using hypertuned XGB Classifier (Hinge)    : 88.75%\n"
     ]
    }
   ],
   "source": [
    "print('Accuracy by Using hypertuned KNN                       : 81.06%')\n",
    "print('Accuracy by Using hypertuned Gaussian NB               : 66.27%')\n",
    "print('Accuracy by Using hypertuned Logistic Regression       : 66.86%')\n",
    "print('Accuracy by Using hypertuned SVM                       : 89.34%')\n",
    "print('Accuracy by Using hypertuned Random Forest             : 84.61%')\n",
    "print('Accuracy by Using hypertuned XGB Classifier (Hinge)    : 88.75%')"
   ]
  },
  {
   "cell_type": "markdown",
   "metadata": {},
   "source": [
    "# End Results"
   ]
  },
  {
   "cell_type": "markdown",
   "metadata": {},
   "source": [
    "- After all the possible experiments Maximum accuracy of **89.34%** is achieved by using **SVM** and by making data balanced as **Up Sampling.**\n",
    "- Surprisingly XGB Classifier does not give the accuracy better than SVM."
   ]
  },
  {
   "cell_type": "code",
   "execution_count": null,
   "metadata": {},
   "outputs": [],
   "source": []
  }
 ],
 "metadata": {
  "kernelspec": {
   "display_name": "Python 3",
   "language": "python",
   "name": "python3"
  },
  "language_info": {
   "codemirror_mode": {
    "name": "ipython",
    "version": 3
   },
   "file_extension": ".py",
   "mimetype": "text/x-python",
   "name": "python",
   "nbconvert_exporter": "python",
   "pygments_lexer": "ipython3",
   "version": "3.7.3"
  }
 },
 "nbformat": 4,
 "nbformat_minor": 2
}
